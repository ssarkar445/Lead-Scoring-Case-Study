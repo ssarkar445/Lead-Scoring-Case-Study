{
 "cells": [
  {
   "cell_type": "markdown",
   "metadata": {},
   "source": [
    "# Lead Scoring Case Study #"
   ]
  },
  {
   "cell_type": "markdown",
   "metadata": {},
   "source": [
    "#### Importing required libraries"
   ]
  },
  {
   "cell_type": "code",
   "execution_count": 1,
   "metadata": {},
   "outputs": [],
   "source": [
    "import os\n",
    "import sys\n",
    "import pandas as pd\n",
    "import numpy as np\n",
    "\n",
    "import seaborn as sns\n",
    "import matplotlib.pyplot as plt\n",
    "%matplotlib inline\n",
    "\n",
    "from sklearn.linear_model import LogisticRegression\n",
    "from sklearn.decomposition import PCA\n",
    "\n",
    "from sklearn.model_selection import train_test_split\n",
    "from sklearn.preprocessing import MinMaxScaler\n",
    "from sklearn.metrics import accuracy_score,confusion_matrix,roc_curve,roc_auc_score,precision_score,recall_score\n",
    "\n",
    "from sklearn.feature_selection import RFE\n",
    "\n",
    "import warnings\n",
    "warnings.filterwarnings('ignore')"
   ]
  },
  {
   "cell_type": "markdown",
   "metadata": {},
   "source": [
    "#### Importing the DataSet"
   ]
  },
  {
   "cell_type": "code",
   "execution_count": 2,
   "metadata": {},
   "outputs": [],
   "source": [
    "leads = pd.read_csv('Leads.csv')"
   ]
  },
  {
   "cell_type": "markdown",
   "metadata": {},
   "source": [
    "#### Basic Checks on the imported dataset"
   ]
  },
  {
   "cell_type": "code",
   "execution_count": 3,
   "metadata": {},
   "outputs": [
    {
     "data": {
      "text/plain": [
       "(9240, 37)"
      ]
     },
     "execution_count": 3,
     "metadata": {},
     "output_type": "execute_result"
    }
   ],
   "source": [
    "leads.shape"
   ]
  },
  {
   "cell_type": "code",
   "execution_count": 4,
   "metadata": {},
   "outputs": [
    {
     "name": "stdout",
     "output_type": "stream",
     "text": [
      "<class 'pandas.core.frame.DataFrame'>\n",
      "RangeIndex: 9240 entries, 0 to 9239\n",
      "Data columns (total 37 columns):\n",
      "Prospect ID                                      9240 non-null object\n",
      "Lead Number                                      9240 non-null int64\n",
      "Lead Origin                                      9240 non-null object\n",
      "Lead Source                                      9204 non-null object\n",
      "Do Not Email                                     9240 non-null object\n",
      "Do Not Call                                      9240 non-null object\n",
      "Converted                                        9240 non-null int64\n",
      "TotalVisits                                      9103 non-null float64\n",
      "Total Time Spent on Website                      9240 non-null int64\n",
      "Page Views Per Visit                             9103 non-null float64\n",
      "Last Activity                                    9137 non-null object\n",
      "Country                                          6779 non-null object\n",
      "Specialization                                   7802 non-null object\n",
      "How did you hear about X Education               7033 non-null object\n",
      "What is your current occupation                  6550 non-null object\n",
      "What matters most to you in choosing a course    6531 non-null object\n",
      "Search                                           9240 non-null object\n",
      "Magazine                                         9240 non-null object\n",
      "Newspaper Article                                9240 non-null object\n",
      "X Education Forums                               9240 non-null object\n",
      "Newspaper                                        9240 non-null object\n",
      "Digital Advertisement                            9240 non-null object\n",
      "Through Recommendations                          9240 non-null object\n",
      "Receive More Updates About Our Courses           9240 non-null object\n",
      "Tags                                             5887 non-null object\n",
      "Lead Quality                                     4473 non-null object\n",
      "Update me on Supply Chain Content                9240 non-null object\n",
      "Get updates on DM Content                        9240 non-null object\n",
      "Lead Profile                                     6531 non-null object\n",
      "City                                             7820 non-null object\n",
      "Asymmetrique Activity Index                      5022 non-null object\n",
      "Asymmetrique Profile Index                       5022 non-null object\n",
      "Asymmetrique Activity Score                      5022 non-null float64\n",
      "Asymmetrique Profile Score                       5022 non-null float64\n",
      "I agree to pay the amount through cheque         9240 non-null object\n",
      "A free copy of Mastering The Interview           9240 non-null object\n",
      "Last Notable Activity                            9240 non-null object\n",
      "dtypes: float64(4), int64(3), object(30)\n",
      "memory usage: 2.6+ MB\n"
     ]
    }
   ],
   "source": [
    "leads.info()"
   ]
  },
  {
   "cell_type": "markdown",
   "metadata": {},
   "source": [
    "#### Checking the different quartile value for numeric variable"
   ]
  },
  {
   "cell_type": "code",
   "execution_count": 5,
   "metadata": {},
   "outputs": [
    {
     "data": {
      "text/html": [
       "<div>\n",
       "<style scoped>\n",
       "    .dataframe tbody tr th:only-of-type {\n",
       "        vertical-align: middle;\n",
       "    }\n",
       "\n",
       "    .dataframe tbody tr th {\n",
       "        vertical-align: top;\n",
       "    }\n",
       "\n",
       "    .dataframe thead th {\n",
       "        text-align: right;\n",
       "    }\n",
       "</style>\n",
       "<table border=\"1\" class=\"dataframe\">\n",
       "  <thead>\n",
       "    <tr style=\"text-align: right;\">\n",
       "      <th></th>\n",
       "      <th>Lead Number</th>\n",
       "      <th>Converted</th>\n",
       "      <th>TotalVisits</th>\n",
       "      <th>Total Time Spent on Website</th>\n",
       "      <th>Page Views Per Visit</th>\n",
       "      <th>Asymmetrique Activity Score</th>\n",
       "      <th>Asymmetrique Profile Score</th>\n",
       "    </tr>\n",
       "  </thead>\n",
       "  <tbody>\n",
       "    <tr>\n",
       "      <th>count</th>\n",
       "      <td>9240.000000</td>\n",
       "      <td>9240.000000</td>\n",
       "      <td>9103.000000</td>\n",
       "      <td>9240.000000</td>\n",
       "      <td>9103.000000</td>\n",
       "      <td>5022.000000</td>\n",
       "      <td>5022.000000</td>\n",
       "    </tr>\n",
       "    <tr>\n",
       "      <th>mean</th>\n",
       "      <td>617188.435606</td>\n",
       "      <td>0.385390</td>\n",
       "      <td>3.445238</td>\n",
       "      <td>487.698268</td>\n",
       "      <td>2.362820</td>\n",
       "      <td>14.306252</td>\n",
       "      <td>16.344883</td>\n",
       "    </tr>\n",
       "    <tr>\n",
       "      <th>std</th>\n",
       "      <td>23405.995698</td>\n",
       "      <td>0.486714</td>\n",
       "      <td>4.854853</td>\n",
       "      <td>548.021466</td>\n",
       "      <td>2.161418</td>\n",
       "      <td>1.386694</td>\n",
       "      <td>1.811395</td>\n",
       "    </tr>\n",
       "    <tr>\n",
       "      <th>min</th>\n",
       "      <td>579533.000000</td>\n",
       "      <td>0.000000</td>\n",
       "      <td>0.000000</td>\n",
       "      <td>0.000000</td>\n",
       "      <td>0.000000</td>\n",
       "      <td>7.000000</td>\n",
       "      <td>11.000000</td>\n",
       "    </tr>\n",
       "    <tr>\n",
       "      <th>25%</th>\n",
       "      <td>596484.500000</td>\n",
       "      <td>0.000000</td>\n",
       "      <td>1.000000</td>\n",
       "      <td>12.000000</td>\n",
       "      <td>1.000000</td>\n",
       "      <td>14.000000</td>\n",
       "      <td>15.000000</td>\n",
       "    </tr>\n",
       "    <tr>\n",
       "      <th>50%</th>\n",
       "      <td>615479.000000</td>\n",
       "      <td>0.000000</td>\n",
       "      <td>3.000000</td>\n",
       "      <td>248.000000</td>\n",
       "      <td>2.000000</td>\n",
       "      <td>14.000000</td>\n",
       "      <td>16.000000</td>\n",
       "    </tr>\n",
       "    <tr>\n",
       "      <th>75%</th>\n",
       "      <td>637387.250000</td>\n",
       "      <td>1.000000</td>\n",
       "      <td>5.000000</td>\n",
       "      <td>936.000000</td>\n",
       "      <td>3.000000</td>\n",
       "      <td>15.000000</td>\n",
       "      <td>18.000000</td>\n",
       "    </tr>\n",
       "    <tr>\n",
       "      <th>max</th>\n",
       "      <td>660737.000000</td>\n",
       "      <td>1.000000</td>\n",
       "      <td>251.000000</td>\n",
       "      <td>2272.000000</td>\n",
       "      <td>55.000000</td>\n",
       "      <td>18.000000</td>\n",
       "      <td>20.000000</td>\n",
       "    </tr>\n",
       "  </tbody>\n",
       "</table>\n",
       "</div>"
      ],
      "text/plain": [
       "         Lead Number    Converted  TotalVisits  Total Time Spent on Website  \\\n",
       "count    9240.000000  9240.000000  9103.000000                  9240.000000   \n",
       "mean   617188.435606     0.385390     3.445238                   487.698268   \n",
       "std     23405.995698     0.486714     4.854853                   548.021466   \n",
       "min    579533.000000     0.000000     0.000000                     0.000000   \n",
       "25%    596484.500000     0.000000     1.000000                    12.000000   \n",
       "50%    615479.000000     0.000000     3.000000                   248.000000   \n",
       "75%    637387.250000     1.000000     5.000000                   936.000000   \n",
       "max    660737.000000     1.000000   251.000000                  2272.000000   \n",
       "\n",
       "       Page Views Per Visit  Asymmetrique Activity Score  \\\n",
       "count           9103.000000                  5022.000000   \n",
       "mean               2.362820                    14.306252   \n",
       "std                2.161418                     1.386694   \n",
       "min                0.000000                     7.000000   \n",
       "25%                1.000000                    14.000000   \n",
       "50%                2.000000                    14.000000   \n",
       "75%                3.000000                    15.000000   \n",
       "max               55.000000                    18.000000   \n",
       "\n",
       "       Asymmetrique Profile Score  \n",
       "count                 5022.000000  \n",
       "mean                    16.344883  \n",
       "std                      1.811395  \n",
       "min                     11.000000  \n",
       "25%                     15.000000  \n",
       "50%                     16.000000  \n",
       "75%                     18.000000  \n",
       "max                     20.000000  "
      ]
     },
     "execution_count": 5,
     "metadata": {},
     "output_type": "execute_result"
    }
   ],
   "source": [
    "leads.describe()"
   ]
  },
  {
   "cell_type": "markdown",
   "metadata": {},
   "source": [
    "#### Cheking the dataset for the amount of nulls present"
   ]
  },
  {
   "cell_type": "code",
   "execution_count": 6,
   "metadata": {},
   "outputs": [
    {
     "data": {
      "text/plain": [
       "Prospect ID                                       0.00\n",
       "Lead Number                                       0.00\n",
       "Lead Origin                                       0.00\n",
       "Lead Source                                       0.39\n",
       "Do Not Email                                      0.00\n",
       "Do Not Call                                       0.00\n",
       "Converted                                         0.00\n",
       "TotalVisits                                       1.48\n",
       "Total Time Spent on Website                       0.00\n",
       "Page Views Per Visit                              1.48\n",
       "Last Activity                                     1.11\n",
       "Country                                          26.63\n",
       "Specialization                                   15.56\n",
       "How did you hear about X Education               23.89\n",
       "What is your current occupation                  29.11\n",
       "What matters most to you in choosing a course    29.32\n",
       "Search                                            0.00\n",
       "Magazine                                          0.00\n",
       "Newspaper Article                                 0.00\n",
       "X Education Forums                                0.00\n",
       "Newspaper                                         0.00\n",
       "Digital Advertisement                             0.00\n",
       "Through Recommendations                           0.00\n",
       "Receive More Updates About Our Courses            0.00\n",
       "Tags                                             36.29\n",
       "Lead Quality                                     51.59\n",
       "Update me on Supply Chain Content                 0.00\n",
       "Get updates on DM Content                         0.00\n",
       "Lead Profile                                     29.32\n",
       "City                                             15.37\n",
       "Asymmetrique Activity Index                      45.65\n",
       "Asymmetrique Profile Index                       45.65\n",
       "Asymmetrique Activity Score                      45.65\n",
       "Asymmetrique Profile Score                       45.65\n",
       "I agree to pay the amount through cheque          0.00\n",
       "A free copy of Mastering The Interview            0.00\n",
       "Last Notable Activity                             0.00\n",
       "dtype: float64"
      ]
     },
     "execution_count": 6,
     "metadata": {},
     "output_type": "execute_result"
    }
   ],
   "source": [
    "round(100*(leads.isna().sum()/len(leads.index)),2)"
   ]
  },
  {
   "cell_type": "markdown",
   "metadata": {},
   "source": [
    "#### Doing a check on the columns present"
   ]
  },
  {
   "cell_type": "code",
   "execution_count": 7,
   "metadata": {},
   "outputs": [
    {
     "data": {
      "text/plain": [
       "Index(['Prospect ID', 'Lead Number', 'Lead Origin', 'Lead Source',\n",
       "       'Do Not Email', 'Do Not Call', 'Converted', 'TotalVisits',\n",
       "       'Total Time Spent on Website', 'Page Views Per Visit', 'Last Activity',\n",
       "       'Country', 'Specialization', 'How did you hear about X Education',\n",
       "       'What is your current occupation',\n",
       "       'What matters most to you in choosing a course', 'Search', 'Magazine',\n",
       "       'Newspaper Article', 'X Education Forums', 'Newspaper',\n",
       "       'Digital Advertisement', 'Through Recommendations',\n",
       "       'Receive More Updates About Our Courses', 'Tags', 'Lead Quality',\n",
       "       'Update me on Supply Chain Content', 'Get updates on DM Content',\n",
       "       'Lead Profile', 'City', 'Asymmetrique Activity Index',\n",
       "       'Asymmetrique Profile Index', 'Asymmetrique Activity Score',\n",
       "       'Asymmetrique Profile Score',\n",
       "       'I agree to pay the amount through cheque',\n",
       "       'A free copy of Mastering The Interview', 'Last Notable Activity'],\n",
       "      dtype='object')"
      ]
     },
     "execution_count": 7,
     "metadata": {},
     "output_type": "execute_result"
    }
   ],
   "source": [
    "leads.columns"
   ]
  },
  {
   "cell_type": "markdown",
   "metadata": {},
   "source": [
    "#### Lets keep an actual copy of dataset for later analyis"
   ]
  },
  {
   "cell_type": "code",
   "execution_count": 8,
   "metadata": {},
   "outputs": [],
   "source": [
    "leads_df = leads"
   ]
  },
  {
   "cell_type": "markdown",
   "metadata": {},
   "source": [
    "### After checking the columns for the variance explained below columns needs to be dropped as it is explaining nearly no variance"
   ]
  },
  {
   "cell_type": "code",
   "execution_count": 9,
   "metadata": {},
   "outputs": [],
   "source": [
    "# Do Not Call\n",
    "# What matters most to you in choosing this course\n",
    "# Magazine\n",
    "# Newspaper Article\n",
    "# X Education Forums\n",
    "# Newspaper\n",
    "# Digital Advertisement\n",
    "# Through Recommendations\n",
    "# Receive More Updates About Our Courses\n",
    "# Update me on Supply Chain Content\n",
    "# Get updates on DM Content\n",
    "# I agree to pay the amount through cheque"
   ]
  },
  {
   "cell_type": "code",
   "execution_count": 10,
   "metadata": {},
   "outputs": [],
   "source": [
    "low_variance = ['Do Not Call','What matters most to you in choosing a course','Magazine',\n",
    "                'Newspaper Article','X Education Forums','Newspaper','Digital Advertisement','Through Recommendations'\n",
    "                ,'Receive More Updates About Our Courses','Update me on Supply Chain Content','Get updates on DM Content'\n",
    "                ,'I agree to pay the amount through cheque']\n",
    "\n",
    "leads_df = leads_df.drop(low_variance,axis='columns')"
   ]
  },
  {
   "cell_type": "code",
   "execution_count": 11,
   "metadata": {},
   "outputs": [],
   "source": [
    "# Also ID columns are of no use needs to be dropped\n",
    "leads_df = leads_df.drop(['Prospect ID','Lead Number'],axis='columns')"
   ]
  },
  {
   "cell_type": "code",
   "execution_count": 12,
   "metadata": {},
   "outputs": [
    {
     "data": {
      "text/plain": [
       "(9240, 23)"
      ]
     },
     "execution_count": 12,
     "metadata": {},
     "output_type": "execute_result"
    }
   ],
   "source": [
    "leads_df.shape"
   ]
  },
  {
   "cell_type": "markdown",
   "metadata": {},
   "source": [
    "### Now lets deal with the null values"
   ]
  },
  {
   "cell_type": "markdown",
   "metadata": {},
   "source": [
    "#### As per problem statement 'Select' is similar to NaN"
   ]
  },
  {
   "cell_type": "code",
   "execution_count": 13,
   "metadata": {},
   "outputs": [],
   "source": [
    "leads_df.replace('Select',np.NaN,inplace=True)"
   ]
  },
  {
   "cell_type": "markdown",
   "metadata": {},
   "source": [
    "#### Checking the amount of null values present in the dataset"
   ]
  },
  {
   "cell_type": "code",
   "execution_count": 14,
   "metadata": {},
   "outputs": [
    {
     "data": {
      "text/plain": [
       "Lead Origin                                0.0\n",
       "Lead Source                                0.0\n",
       "Do Not Email                               0.0\n",
       "Converted                                  0.0\n",
       "TotalVisits                                1.0\n",
       "Total Time Spent on Website                0.0\n",
       "Page Views Per Visit                       1.0\n",
       "Last Activity                              1.0\n",
       "Country                                   27.0\n",
       "Specialization                            37.0\n",
       "How did you hear about X Education        78.0\n",
       "What is your current occupation           29.0\n",
       "Search                                     0.0\n",
       "Tags                                      36.0\n",
       "Lead Quality                              52.0\n",
       "Lead Profile                              74.0\n",
       "City                                      40.0\n",
       "Asymmetrique Activity Index               46.0\n",
       "Asymmetrique Profile Index                46.0\n",
       "Asymmetrique Activity Score               46.0\n",
       "Asymmetrique Profile Score                46.0\n",
       "A free copy of Mastering The Interview     0.0\n",
       "Last Notable Activity                      0.0\n",
       "dtype: float64"
      ]
     },
     "execution_count": 14,
     "metadata": {},
     "output_type": "execute_result"
    }
   ],
   "source": [
    "round(100*(leads_df.isna().sum()/len(leads_df.index)))"
   ]
  },
  {
   "cell_type": "markdown",
   "metadata": {},
   "source": [
    "#### Dropping the column with more than 30% Nulls\n"
   ]
  },
  {
   "cell_type": "code",
   "execution_count": 15,
   "metadata": {},
   "outputs": [],
   "source": [
    "more_than_30 = list(round(100*(leads_df.isna().sum()/len(leads_df.index)))[round(100*(leads_df.isna().sum()/len(leads_df.index))).values>30.0].index)\n",
    "leads_df = leads_df.drop(more_than_30,axis='columns')"
   ]
  },
  {
   "cell_type": "code",
   "execution_count": 16,
   "metadata": {},
   "outputs": [],
   "source": [
    "leads_df.loc[leads_df['Lead Source'].isnull(),'Lead Source'] = 'Google'\n",
    "leads_df.loc[leads_df['TotalVisits'].isnull(),'TotalVisits'] = 0.0\n",
    "leads_df.loc[leads_df['Page Views Per Visit'].isnull(),'Page Views Per Visit'] = 0.0\n",
    "leads_df.loc[leads_df['Last Activity'].isnull(),'Last Activity'] = 'Email Opened'\n",
    "leads_df.loc[leads_df['Country'].isnull(),'Country'] = 'India'\n",
    "leads_df.loc[leads_df['What is your current occupation'].isnull(),'What is your current occupation'] = 'Unemployed'"
   ]
  },
  {
   "cell_type": "markdown",
   "metadata": {},
   "source": [
    "#### Checking the values after imputing"
   ]
  },
  {
   "cell_type": "code",
   "execution_count": 17,
   "metadata": {},
   "outputs": [
    {
     "data": {
      "text/plain": [
       "Lead Origin                               0.0\n",
       "Lead Source                               0.0\n",
       "Do Not Email                              0.0\n",
       "Converted                                 0.0\n",
       "TotalVisits                               0.0\n",
       "Total Time Spent on Website               0.0\n",
       "Page Views Per Visit                      0.0\n",
       "Last Activity                             0.0\n",
       "Country                                   0.0\n",
       "What is your current occupation           0.0\n",
       "Search                                    0.0\n",
       "A free copy of Mastering The Interview    0.0\n",
       "Last Notable Activity                     0.0\n",
       "dtype: float64"
      ]
     },
     "execution_count": 17,
     "metadata": {},
     "output_type": "execute_result"
    }
   ],
   "source": [
    "round(100*(leads_df.isnull().sum()/len(leads_df.index)))"
   ]
  },
  {
   "cell_type": "markdown",
   "metadata": {},
   "source": [
    "#### Lets Check for numerical values for outliers"
   ]
  },
  {
   "cell_type": "code",
   "execution_count": 18,
   "metadata": {},
   "outputs": [
    {
     "data": {
      "image/png": "[encoded data removed]",
      "text/plain": [
       "<Figure size 1080x432 with 3 Axes>"
      ]
     },
     "metadata": {},
     "output_type": "display_data"
    }
   ],
   "source": [
    "plt.figure(figsize=(15,6))\n",
    "plt.subplot(1,3,1)\n",
    "sns.boxplot(y = leads_df.TotalVisits,color='red')\n",
    "plt.title('TotalVisits')\n",
    "\n",
    "plt.subplot(1,3,2)\n",
    "sns.boxplot(y = leads_df['Total Time Spent on Website'],color='green')\n",
    "plt.title('Total Time Spent on Website')\n",
    "\n",
    "plt.subplot(1,3,3)\n",
    "sns.boxplot(y = leads_df['Page Views Per Visit'])\n",
    "plt.title('Page Views Per Visit')\n",
    "\n",
    "plt.show()"
   ]
  },
  {
   "cell_type": "markdown",
   "metadata": {},
   "source": [
    "#### Removing outliers using  1.5 quartile rule"
   ]
  },
  {
   "cell_type": "code",
   "execution_count": 19,
   "metadata": {},
   "outputs": [],
   "source": [
    "TotalVisits_q1 = leads_df.TotalVisits.quantile(.25)\n",
    "TotalVisits_q3 = leads_df.TotalVisits.quantile(.75)\n",
    "TotalVisits_IQR = TotalVisits_q3-TotalVisits_q1\n",
    "\n",
    "leads_df = leads_df[(leads_df.TotalVisits >= TotalVisits_q1-(TotalVisits_IQR*1.5)) & (leads_df.TotalVisits<=TotalVisits_q3+(TotalVisits_IQR*1.5))]\n",
    "\n",
    "Website_Q1  = leads_df['Total Time Spent on Website'].quantile(0.25)\n",
    "Website_Q3 = leads_df['Total Time Spent on Website'].quantile(0.75)\n",
    "Website_IQR = Website_Q3-Website_Q1\n",
    "\n",
    "leads_df = leads_df[(leads_df['Total Time Spent on Website']>=Website_Q1-(Website_IQR*1.5)) & (leads_df['Total Time Spent on Website']<=Website_Q3+(Website_IQR*1.5))]\n",
    "\n",
    "Visit_Q1 = leads_df['Page Views Per Visit'].quantile(.25)\n",
    "Visit_Q3 = leads_df['Page Views Per Visit'].quantile(.75)\n",
    "Visit_IQR  = Visit_Q3-Visit_Q1\n",
    "\n",
    "leads_df = leads_df[(leads_df['Page Views Per Visit']>=Visit_Q1-(Visit_IQR*1.5))&(leads_df['Page Views Per Visit']<=Visit_Q3+(Visit_IQR*1.5))]"
   ]
  },
  {
   "cell_type": "markdown",
   "metadata": {},
   "source": [
    "#### Lets check the distribution plot for these variables"
   ]
  },
  {
   "cell_type": "code",
   "execution_count": 20,
   "metadata": {},
   "outputs": [
    {
     "data": {
      "image/png": "[encoded data removed]",
      "text/plain": [
       "<Figure size 1080x432 with 3 Axes>"
      ]
     },
     "metadata": {},
     "output_type": "display_data"
    }
   ],
   "source": [
    "plt.figure(figsize=(15,6))\n",
    "plt.subplot(1,3,1)\n",
    "sns.distplot(leads_df.TotalVisits,color='red')\n",
    "plt.title('TotalVisits')\n",
    "\n",
    "plt.subplot(1,3,2)\n",
    "sns.distplot(leads_df['Total Time Spent on Website'],color='green')\n",
    "plt.title('Total Time Spent on Website')\n",
    "\n",
    "plt.subplot(1,3,3)\n",
    "sns.distplot(leads_df['Page Views Per Visit'])\n",
    "plt.title('Page Views Per Visit')\n",
    "\n",
    "plt.show()"
   ]
  },
  {
   "cell_type": "markdown",
   "metadata": {},
   "source": [
    "#### Here we can see our data is not normally distributed"
   ]
  },
  {
   "cell_type": "markdown",
   "metadata": {},
   "source": [
    "#### Checking the correlation for the numeric variables"
   ]
  },
  {
   "cell_type": "code",
   "execution_count": 21,
   "metadata": {},
   "outputs": [
    {
     "data": {
      "text/plain": [
       "<matplotlib.axes._subplots.AxesSubplot at 0x187d6b84898>"
      ]
     },
     "execution_count": 21,
     "metadata": {},
     "output_type": "execute_result"
    },
    {
     "data": {
      "image/png": "[encoded data removed]",
      "text/plain": [
       "<Figure size 432x288 with 2 Axes>"
      ]
     },
     "metadata": {},
     "output_type": "display_data"
    }
   ],
   "source": [
    "sns.heatmap(leads_df.corr(),annot = True)"
   ]
  },
  {
   "cell_type": "markdown",
   "metadata": {},
   "source": [
    "#### Now lets convert the binary catagorical features to 0 and 1"
   ]
  },
  {
   "cell_type": "code",
   "execution_count": 22,
   "metadata": {},
   "outputs": [],
   "source": [
    "cat_bin = ['Do Not Email','Search','A free copy of Mastering The Interview']\n",
    "\n",
    "def conv_bin(x):\n",
    "    return x.map({'No':0,'Yes':1})\n",
    "\n",
    "leads_df[cat_bin] = leads_df[cat_bin].apply(conv_bin)"
   ]
  },
  {
   "cell_type": "markdown",
   "metadata": {},
   "source": [
    "#### Now lets handle the Nominal variable"
   ]
  },
  {
   "cell_type": "code",
   "execution_count": 23,
   "metadata": {},
   "outputs": [
    {
     "data": {
      "text/html": [
       "<div>\n",
       "<style scoped>\n",
       "    .dataframe tbody tr th:only-of-type {\n",
       "        vertical-align: middle;\n",
       "    }\n",
       "\n",
       "    .dataframe tbody tr th {\n",
       "        vertical-align: top;\n",
       "    }\n",
       "\n",
       "    .dataframe thead th {\n",
       "        text-align: right;\n",
       "    }\n",
       "</style>\n",
       "<table border=\"1\" class=\"dataframe\">\n",
       "  <thead>\n",
       "    <tr style=\"text-align: right;\">\n",
       "      <th></th>\n",
       "      <th>Lead Origin</th>\n",
       "      <th>Lead Source</th>\n",
       "      <th>Last Activity</th>\n",
       "      <th>Country</th>\n",
       "      <th>What is your current occupation</th>\n",
       "      <th>Last Notable Activity</th>\n",
       "    </tr>\n",
       "  </thead>\n",
       "  <tbody>\n",
       "    <tr>\n",
       "      <th>0</th>\n",
       "      <td>API</td>\n",
       "      <td>Olark Chat</td>\n",
       "      <td>Page Visited on Website</td>\n",
       "      <td>India</td>\n",
       "      <td>Unemployed</td>\n",
       "      <td>Modified</td>\n",
       "    </tr>\n",
       "    <tr>\n",
       "      <th>1</th>\n",
       "      <td>API</td>\n",
       "      <td>Organic Search</td>\n",
       "      <td>Email Opened</td>\n",
       "      <td>India</td>\n",
       "      <td>Unemployed</td>\n",
       "      <td>Email Opened</td>\n",
       "    </tr>\n",
       "    <tr>\n",
       "      <th>2</th>\n",
       "      <td>Landing Page Submission</td>\n",
       "      <td>Direct Traffic</td>\n",
       "      <td>Email Opened</td>\n",
       "      <td>India</td>\n",
       "      <td>Student</td>\n",
       "      <td>Email Opened</td>\n",
       "    </tr>\n",
       "    <tr>\n",
       "      <th>3</th>\n",
       "      <td>Landing Page Submission</td>\n",
       "      <td>Direct Traffic</td>\n",
       "      <td>Unreachable</td>\n",
       "      <td>India</td>\n",
       "      <td>Unemployed</td>\n",
       "      <td>Modified</td>\n",
       "    </tr>\n",
       "    <tr>\n",
       "      <th>4</th>\n",
       "      <td>Landing Page Submission</td>\n",
       "      <td>Google</td>\n",
       "      <td>Converted to Lead</td>\n",
       "      <td>India</td>\n",
       "      <td>Unemployed</td>\n",
       "      <td>Modified</td>\n",
       "    </tr>\n",
       "  </tbody>\n",
       "</table>\n",
       "</div>"
      ],
      "text/plain": [
       "               Lead Origin     Lead Source            Last Activity Country  \\\n",
       "0                      API      Olark Chat  Page Visited on Website   India   \n",
       "1                      API  Organic Search             Email Opened   India   \n",
       "2  Landing Page Submission  Direct Traffic             Email Opened   India   \n",
       "3  Landing Page Submission  Direct Traffic              Unreachable   India   \n",
       "4  Landing Page Submission          Google        Converted to Lead   India   \n",
       "\n",
       "  What is your current occupation Last Notable Activity  \n",
       "0                      Unemployed              Modified  \n",
       "1                      Unemployed          Email Opened  \n",
       "2                         Student          Email Opened  \n",
       "3                      Unemployed              Modified  \n",
       "4                      Unemployed              Modified  "
      ]
     },
     "execution_count": 23,
     "metadata": {},
     "output_type": "execute_result"
    }
   ],
   "source": [
    "leads_df[list(leads_df.dtypes[leads_df.dtypes=='object'].index)].head()"
   ]
  },
  {
   "cell_type": "code",
   "execution_count": 24,
   "metadata": {},
   "outputs": [
    {
     "data": {
      "text/plain": [
       "['Lead Origin',\n",
       " 'Lead Source',\n",
       " 'Last Activity',\n",
       " 'Country',\n",
       " 'What is your current occupation',\n",
       " 'Last Notable Activity']"
      ]
     },
     "execution_count": 24,
     "metadata": {},
     "output_type": "execute_result"
    }
   ],
   "source": [
    "nom_var = list(leads_df.dtypes[leads_df.dtypes=='object'].index)\n",
    "nom_var"
   ]
  },
  {
   "cell_type": "markdown",
   "metadata": {},
   "source": [
    "#### Creating the dummy variables"
   ]
  },
  {
   "cell_type": "code",
   "execution_count": 25,
   "metadata": {},
   "outputs": [],
   "source": [
    "Lead_Origin = pd.get_dummies(leads_df['Lead Origin'],prefix='Lead Origin',drop_first=True)\n",
    "Lead_Source = pd.get_dummies(leads_df['Lead Source'],prefix='Lead Source',drop_first=True)\n",
    "Last_Activity = pd.get_dummies(leads_df['Last Activity'],prefix='Last Activity',drop_first=True)\n",
    "Country = pd.get_dummies(leads_df['Country'],prefix='Country',drop_first=True)\n",
    "What_is_your_current_occupation = pd.get_dummies(leads_df['What is your current occupation'],\n",
    "                                                 prefix='What is your current occupation',drop_first=True)\n",
    "Last_Notable_Activity = pd.get_dummies(leads_df['Last Notable Activity'],prefix='Last Notable Activity',drop_first=True)"
   ]
  },
  {
   "cell_type": "markdown",
   "metadata": {},
   "source": [
    "#### Joining the dummy with actual dataframe"
   ]
  },
  {
   "cell_type": "code",
   "execution_count": 26,
   "metadata": {},
   "outputs": [],
   "source": [
    "leads_df = pd.concat([leads_df,Lead_Origin],axis='columns')\n",
    "leads_df = pd.concat([leads_df,Lead_Source],axis='columns')\n",
    "leads_df = pd.concat([leads_df,Last_Activity],axis='columns')\n",
    "leads_df = pd.concat([leads_df,Country],axis='columns')\n",
    "leads_df = pd.concat([leads_df,What_is_your_current_occupation],axis='columns')\n",
    "leads_df = pd.concat([leads_df,Last_Notable_Activity],axis='columns')"
   ]
  },
  {
   "cell_type": "markdown",
   "metadata": {},
   "source": [
    "#### Dropping the actual columns which have been converted to dummy"
   ]
  },
  {
   "cell_type": "code",
   "execution_count": 27,
   "metadata": {},
   "outputs": [],
   "source": [
    "leads_df = leads_df.drop(['Lead Origin','Lead Source','Last Activity','Country',\n",
    "                    'What is your current occupation','Last Notable Activity'],axis='columns')"
   ]
  },
  {
   "cell_type": "code",
   "execution_count": 28,
   "metadata": {},
   "outputs": [],
   "source": [
    "leads_y = leads_df.pop('Converted')\n",
    "leads_X = leads_df"
   ]
  },
  {
   "cell_type": "markdown",
   "metadata": {},
   "source": [
    "#### Splitting the data into train and test dataset"
   ]
  },
  {
   "cell_type": "code",
   "execution_count": 29,
   "metadata": {},
   "outputs": [],
   "source": [
    "train_X,test_X,train_y,test_y = train_test_split(leads_X,leads_y,train_size=0.7,test_size=0.3,random_state=42)"
   ]
  },
  {
   "cell_type": "markdown",
   "metadata": {},
   "source": [
    "#### Scaling using MinMax Scaler"
   ]
  },
  {
   "cell_type": "code",
   "execution_count": 30,
   "metadata": {},
   "outputs": [],
   "source": [
    "scale_col = ['TotalVisits','Total Time Spent on Website','Page Views Per Visit']\n",
    "scaler = MinMaxScaler()\n",
    "train_X[scale_col] = scaler.fit_transform(train_X[scale_col])"
   ]
  },
  {
   "cell_type": "markdown",
   "metadata": {},
   "source": [
    "#### Checking the Class Imbalence between converted and non converted leads"
   ]
  },
  {
   "cell_type": "code",
   "execution_count": 31,
   "metadata": {},
   "outputs": [
    {
     "data": {
      "text/plain": [
       "38.36"
      ]
     },
     "execution_count": 31,
     "metadata": {},
     "output_type": "execute_result"
    }
   ],
   "source": [
    "round(100*(leads_y.sum()/len(leads_y)),2)"
   ]
  },
  {
   "cell_type": "markdown",
   "metadata": {},
   "source": [
    "## Feature Selection using RFE"
   ]
  },
  {
   "cell_type": "code",
   "execution_count": 32,
   "metadata": {},
   "outputs": [],
   "source": [
    "from sklearn.linear_model import LogisticRegression\n",
    "lreg = LogisticRegression()"
   ]
  },
  {
   "cell_type": "code",
   "execution_count": 33,
   "metadata": {},
   "outputs": [],
   "source": [
    "rfe = RFE(lreg,20)\n",
    "rfe = rfe.fit(train_X,train_y)"
   ]
  },
  {
   "cell_type": "code",
   "execution_count": 34,
   "metadata": {},
   "outputs": [
    {
     "data": {
      "text/plain": [
       "[('Do Not Email', True, 1),\n",
       " ('TotalVisits', True, 1),\n",
       " ('Total Time Spent on Website', True, 1),\n",
       " ('Page Views Per Visit', True, 1),\n",
       " ('Search', False, 43),\n",
       " ('A free copy of Mastering The Interview', False, 67),\n",
       " ('Lead Origin_Landing Page Submission', False, 42),\n",
       " ('Lead Origin_Lead Add Form', True, 1),\n",
       " ('Lead Origin_Lead Import', False, 44),\n",
       " ('Lead Origin_Quick Add Form', False, 75),\n",
       " ('Lead Source_Direct Traffic', False, 17),\n",
       " ('Lead Source_Facebook', False, 18),\n",
       " ('Lead Source_Google', False, 20),\n",
       " ('Lead Source_Live Chat', False, 51),\n",
       " ('Lead Source_NC_EDM', False, 32),\n",
       " ('Lead Source_Olark Chat', True, 1),\n",
       " ('Lead Source_Organic Search', False, 19),\n",
       " ('Lead Source_Pay per Click Ads', False, 48),\n",
       " ('Lead Source_Press_Release', False, 66),\n",
       " ('Lead Source_Reference', False, 33),\n",
       " ('Lead Source_Referral Sites', False, 16),\n",
       " ('Lead Source_Social Media', False, 2),\n",
       " ('Lead Source_WeLearn', False, 83),\n",
       " ('Lead Source_Welingak Website', True, 1),\n",
       " ('Lead Source_bing', False, 25),\n",
       " ('Lead Source_blog', False, 82),\n",
       " ('Lead Source_google', False, 24),\n",
       " ('Lead Source_testone', False, 81),\n",
       " ('Lead Source_welearnblog_Home', False, 36),\n",
       " ('Lead Source_youtubechannel', False, 54),\n",
       " ('Last Activity_Converted to Lead', True, 1),\n",
       " ('Last Activity_Email Bounced', True, 1),\n",
       " ('Last Activity_Email Link Clicked', False, 61),\n",
       " ('Last Activity_Email Marked Spam', False, 26),\n",
       " ('Last Activity_Email Opened', False, 46),\n",
       " ('Last Activity_Email Received', False, 55),\n",
       " ('Last Activity_Form Submitted on Website', True, 1),\n",
       " ('Last Activity_Had a Phone Conversation', False, 38),\n",
       " ('Last Activity_Olark Chat Conversation', True, 1),\n",
       " ('Last Activity_Page Visited on Website', False, 3),\n",
       " ('Last Activity_Resubscribed to emails', False, 23),\n",
       " ('Last Activity_SMS Sent', False, 29),\n",
       " ('Last Activity_Unreachable', False, 52),\n",
       " ('Last Activity_Unsubscribed', False, 70),\n",
       " ('Last Activity_View in browser link Clicked', False, 45),\n",
       " ('Last Activity_Visited Booth in Tradeshow', False, 74),\n",
       " ('Country_Australia', False, 27),\n",
       " ('Country_Bahrain', False, 12),\n",
       " ('Country_Bangladesh', False, 37),\n",
       " ('Country_Belgium', False, 56),\n",
       " ('Country_Canada', False, 35),\n",
       " ('Country_China', False, 57),\n",
       " ('Country_Denmark', False, 80),\n",
       " ('Country_France', False, 10),\n",
       " ('Country_Germany', False, 21),\n",
       " ('Country_Ghana', False, 68),\n",
       " ('Country_Hong Kong', False, 39),\n",
       " ('Country_India', False, 11),\n",
       " ('Country_Indonesia', False, 41),\n",
       " ('Country_Italy', True, 1),\n",
       " ('Country_Kenya', False, 58),\n",
       " ('Country_Kuwait', False, 50),\n",
       " ('Country_Liberia', False, 71),\n",
       " ('Country_Malaysia', False, 76),\n",
       " ('Country_Netherlands', False, 77),\n",
       " ('Country_Nigeria', True, 1),\n",
       " ('Country_Oman', False, 9),\n",
       " ('Country_Philippines', False, 49),\n",
       " ('Country_Qatar', False, 53),\n",
       " ('Country_Russia', False, 65),\n",
       " ('Country_Saudi Arabia', False, 28),\n",
       " ('Country_Singapore', False, 34),\n",
       " ('Country_South Africa', False, 62),\n",
       " ('Country_Sri Lanka', False, 69),\n",
       " ('Country_Sweden', False, 47),\n",
       " ('Country_Switzerland', False, 79),\n",
       " ('Country_Tanzania', False, 72),\n",
       " ('Country_Uganda', False, 31),\n",
       " ('Country_United Arab Emirates', False, 13),\n",
       " ('Country_United Kingdom', False, 30),\n",
       " ('Country_United States', False, 59),\n",
       " ('Country_Vietnam', False, 73),\n",
       " ('Country_unknown', False, 40),\n",
       " ('What is your current occupation_Housewife', True, 1),\n",
       " ('What is your current occupation_Other', False, 64),\n",
       " ('What is your current occupation_Student', True, 1),\n",
       " ('What is your current occupation_Unemployed', True, 1),\n",
       " ('What is your current occupation_Working Professional', True, 1),\n",
       " ('Last Notable Activity_Email Bounced', False, 22),\n",
       " ('Last Notable Activity_Email Link Clicked', False, 4),\n",
       " ('Last Notable Activity_Email Marked Spam', False, 14),\n",
       " ('Last Notable Activity_Email Opened', False, 6),\n",
       " ('Last Notable Activity_Email Received', False, 63),\n",
       " ('Last Notable Activity_Form Submitted on Website', False, 78),\n",
       " ('Last Notable Activity_Had a Phone Conversation', True, 1),\n",
       " ('Last Notable Activity_Modified', False, 5),\n",
       " ('Last Notable Activity_Olark Chat Conversation', False, 7),\n",
       " ('Last Notable Activity_Page Visited on Website', False, 8),\n",
       " ('Last Notable Activity_Resubscribed to emails', False, 15),\n",
       " ('Last Notable Activity_SMS Sent', True, 1),\n",
       " ('Last Notable Activity_Unreachable', True, 1),\n",
       " ('Last Notable Activity_Unsubscribed', False, 60),\n",
       " ('Last Notable Activity_View in browser link Clicked', False, 84)]"
      ]
     },
     "execution_count": 34,
     "metadata": {},
     "output_type": "execute_result"
    }
   ],
   "source": [
    "list(zip(train_X.columns,rfe.support_,rfe.ranking_))"
   ]
  },
  {
   "cell_type": "code",
   "execution_count": 35,
   "metadata": {},
   "outputs": [],
   "source": [
    "col  = train_X.columns[rfe.support_]"
   ]
  },
  {
   "cell_type": "markdown",
   "metadata": {},
   "source": [
    "#### Creating function to calculate VIF"
   ]
  },
  {
   "cell_type": "code",
   "execution_count": 36,
   "metadata": {},
   "outputs": [],
   "source": [
    "from statsmodels.stats.outliers_influence import variance_inflation_factor\n",
    "def calculate_vif(df):\n",
    "    vif = pd.DataFrame()\n",
    "    X = df\n",
    "    vif['Feature'] = X.columns\n",
    "    vif['VIF'] = [variance_inflation_factor(X.values,i) for i in range(X.shape[1])]\n",
    "    vif['VIF'] = round(vif['VIF'],2)\n",
    "    vif = vif.sort_values(by='VIF',ascending = False)\n",
    "    return vif"
   ]
  },
  {
   "cell_type": "markdown",
   "metadata": {},
   "source": [
    "### Model Building"
   ]
  },
  {
   "cell_type": "code",
   "execution_count": 37,
   "metadata": {},
   "outputs": [],
   "source": [
    "import statsmodels.api as sm"
   ]
  },
  {
   "cell_type": "code",
   "execution_count": 38,
   "metadata": {
    "scrolled": true
   },
   "outputs": [
    {
     "data": {
      "text/html": [
       "<table class=\"simpletable\">\n",
       "<caption>Generalized Linear Model Regression Results</caption>\n",
       "<tr>\n",
       "  <th>Dep. Variable:</th>      <td>Converted</td>    <th>  No. Observations:  </th>  <td>  6190</td>  \n",
       "</tr>\n",
       "<tr>\n",
       "  <th>Model:</th>                 <td>GLM</td>       <th>  Df Residuals:      </th>  <td>  6169</td>  \n",
       "</tr>\n",
       "<tr>\n",
       "  <th>Model Family:</th>       <td>Binomial</td>     <th>  Df Model:          </th>  <td>    20</td>  \n",
       "</tr>\n",
       "<tr>\n",
       "  <th>Link Function:</th>        <td>logit</td>      <th>  Scale:             </th> <td>  1.0000</td> \n",
       "</tr>\n",
       "<tr>\n",
       "  <th>Method:</th>               <td>IRLS</td>       <th>  Log-Likelihood:    </th> <td> -2515.9</td> \n",
       "</tr>\n",
       "<tr>\n",
       "  <th>Date:</th>           <td>Mon, 10 Jun 2019</td> <th>  Deviance:          </th> <td>  5031.8</td> \n",
       "</tr>\n",
       "<tr>\n",
       "  <th>Time:</th>               <td>19:32:45</td>     <th>  Pearson chi2:      </th> <td>7.26e+03</td> \n",
       "</tr>\n",
       "<tr>\n",
       "  <th>No. Iterations:</th>        <td>22</td>        <th>  Covariance Type:   </th> <td>nonrobust</td>\n",
       "</tr>\n",
       "</table>\n",
       "<table class=\"simpletable\">\n",
       "<tr>\n",
       "                            <td></td>                              <th>coef</th>     <th>std err</th>      <th>z</th>      <th>P>|z|</th>  <th>[0.025</th>    <th>0.975]</th>  \n",
       "</tr>\n",
       "<tr>\n",
       "  <th>const</th>                                                <td>   -1.2596</td> <td>    0.669</td> <td>   -1.882</td> <td> 0.060</td> <td>   -2.571</td> <td>    0.052</td>\n",
       "</tr>\n",
       "<tr>\n",
       "  <th>Do Not Email</th>                                         <td>   -1.3441</td> <td>    0.194</td> <td>   -6.922</td> <td> 0.000</td> <td>   -1.725</td> <td>   -0.964</td>\n",
       "</tr>\n",
       "<tr>\n",
       "  <th>TotalVisits</th>                                          <td>    1.3405</td> <td>    0.245</td> <td>    5.461</td> <td> 0.000</td> <td>    0.859</td> <td>    1.822</td>\n",
       "</tr>\n",
       "<tr>\n",
       "  <th>Total Time Spent on Website</th>                          <td>    4.5842</td> <td>    0.170</td> <td>   27.008</td> <td> 0.000</td> <td>    4.252</td> <td>    4.917</td>\n",
       "</tr>\n",
       "<tr>\n",
       "  <th>Page Views Per Visit</th>                                 <td>   -0.9738</td> <td>    0.233</td> <td>   -4.188</td> <td> 0.000</td> <td>   -1.430</td> <td>   -0.518</td>\n",
       "</tr>\n",
       "<tr>\n",
       "  <th>Lead Origin_Lead Add Form</th>                            <td>    3.7996</td> <td>    0.222</td> <td>   17.102</td> <td> 0.000</td> <td>    3.364</td> <td>    4.235</td>\n",
       "</tr>\n",
       "<tr>\n",
       "  <th>Lead Source_Olark Chat</th>                               <td>    1.2043</td> <td>    0.136</td> <td>    8.871</td> <td> 0.000</td> <td>    0.938</td> <td>    1.470</td>\n",
       "</tr>\n",
       "<tr>\n",
       "  <th>Lead Source_Welingak Website</th>                         <td>    2.8113</td> <td>    1.029</td> <td>    2.733</td> <td> 0.006</td> <td>    0.795</td> <td>    4.828</td>\n",
       "</tr>\n",
       "<tr>\n",
       "  <th>Last Activity_Converted to Lead</th>                      <td>   -1.1190</td> <td>    0.220</td> <td>   -5.087</td> <td> 0.000</td> <td>   -1.550</td> <td>   -0.688</td>\n",
       "</tr>\n",
       "<tr>\n",
       "  <th>Last Activity_Email Bounced</th>                          <td>   -0.8061</td> <td>    0.364</td> <td>   -2.213</td> <td> 0.027</td> <td>   -1.520</td> <td>   -0.092</td>\n",
       "</tr>\n",
       "<tr>\n",
       "  <th>Last Activity_Form Submitted on Website</th>              <td>   -0.8169</td> <td>    0.360</td> <td>   -2.267</td> <td> 0.023</td> <td>   -1.523</td> <td>   -0.111</td>\n",
       "</tr>\n",
       "<tr>\n",
       "  <th>Last Activity_Olark Chat Conversation</th>                <td>   -1.5171</td> <td>    0.167</td> <td>   -9.110</td> <td> 0.000</td> <td>   -1.844</td> <td>   -1.191</td>\n",
       "</tr>\n",
       "<tr>\n",
       "  <th>Country_Italy</th>                                        <td>  -25.1021</td> <td> 4.73e+04</td> <td>   -0.001</td> <td> 1.000</td> <td>-9.27e+04</td> <td> 9.26e+04</td>\n",
       "</tr>\n",
       "<tr>\n",
       "  <th>Country_Nigeria</th>                                      <td>  -23.0264</td> <td>  3.4e+04</td> <td>   -0.001</td> <td> 0.999</td> <td>-6.67e+04</td> <td> 6.67e+04</td>\n",
       "</tr>\n",
       "<tr>\n",
       "  <th>What is your current occupation_Housewife</th>            <td>   22.8669</td> <td> 2.13e+04</td> <td>    0.001</td> <td> 0.999</td> <td>-4.16e+04</td> <td> 4.17e+04</td>\n",
       "</tr>\n",
       "<tr>\n",
       "  <th>What is your current occupation_Student</th>              <td>   -0.7078</td> <td>    0.695</td> <td>   -1.019</td> <td> 0.308</td> <td>   -2.069</td> <td>    0.654</td>\n",
       "</tr>\n",
       "<tr>\n",
       "  <th>What is your current occupation_Unemployed</th>           <td>   -1.1535</td> <td>    0.660</td> <td>   -1.747</td> <td> 0.081</td> <td>   -2.448</td> <td>    0.141</td>\n",
       "</tr>\n",
       "<tr>\n",
       "  <th>What is your current occupation_Working Professional</th> <td>    1.7637</td> <td>    0.690</td> <td>    2.558</td> <td> 0.011</td> <td>    0.412</td> <td>    3.115</td>\n",
       "</tr>\n",
       "<tr>\n",
       "  <th>Last Notable Activity_Had a Phone Conversation</th>       <td>   24.2375</td> <td> 2.06e+04</td> <td>    0.001</td> <td> 0.999</td> <td>-4.03e+04</td> <td> 4.04e+04</td>\n",
       "</tr>\n",
       "<tr>\n",
       "  <th>Last Notable Activity_SMS Sent</th>                       <td>    1.6171</td> <td>    0.083</td> <td>   19.496</td> <td> 0.000</td> <td>    1.455</td> <td>    1.780</td>\n",
       "</tr>\n",
       "<tr>\n",
       "  <th>Last Notable Activity_Unreachable</th>                    <td>    2.0521</td> <td>    0.568</td> <td>    3.616</td> <td> 0.000</td> <td>    0.940</td> <td>    3.164</td>\n",
       "</tr>\n",
       "</table>"
      ],
      "text/plain": [
       "<class 'statsmodels.iolib.summary.Summary'>\n",
       "\"\"\"\n",
       "                 Generalized Linear Model Regression Results                  \n",
       "==============================================================================\n",
       "Dep. Variable:              Converted   No. Observations:                 6190\n",
       "Model:                            GLM   Df Residuals:                     6169\n",
       "Model Family:                Binomial   Df Model:                           20\n",
       "Link Function:                  logit   Scale:                          1.0000\n",
       "Method:                          IRLS   Log-Likelihood:                -2515.9\n",
       "Date:                Mon, 10 Jun 2019   Deviance:                       5031.8\n",
       "Time:                        19:32:45   Pearson chi2:                 7.26e+03\n",
       "No. Iterations:                    22   Covariance Type:             nonrobust\n",
       "========================================================================================================================\n",
       "                                                           coef    std err          z      P>|z|      [0.025      0.975]\n",
       "------------------------------------------------------------------------------------------------------------------------\n",
       "const                                                   -1.2596      0.669     -1.882      0.060      -2.571       0.052\n",
       "Do Not Email                                            -1.3441      0.194     -6.922      0.000      -1.725      -0.964\n",
       "TotalVisits                                              1.3405      0.245      5.461      0.000       0.859       1.822\n",
       "Total Time Spent on Website                              4.5842      0.170     27.008      0.000       4.252       4.917\n",
       "Page Views Per Visit                                    -0.9738      0.233     -4.188      0.000      -1.430      -0.518\n",
       "Lead Origin_Lead Add Form                                3.7996      0.222     17.102      0.000       3.364       4.235\n",
       "Lead Source_Olark Chat                                   1.2043      0.136      8.871      0.000       0.938       1.470\n",
       "Lead Source_Welingak Website                             2.8113      1.029      2.733      0.006       0.795       4.828\n",
       "Last Activity_Converted to Lead                         -1.1190      0.220     -5.087      0.000      -1.550      -0.688\n",
       "Last Activity_Email Bounced                             -0.8061      0.364     -2.213      0.027      -1.520      -0.092\n",
       "Last Activity_Form Submitted on Website                 -0.8169      0.360     -2.267      0.023      -1.523      -0.111\n",
       "Last Activity_Olark Chat Conversation                   -1.5171      0.167     -9.110      0.000      -1.844      -1.191\n",
       "Country_Italy                                          -25.1021   4.73e+04     -0.001      1.000   -9.27e+04    9.26e+04\n",
       "Country_Nigeria                                        -23.0264    3.4e+04     -0.001      0.999   -6.67e+04    6.67e+04\n",
       "What is your current occupation_Housewife               22.8669   2.13e+04      0.001      0.999   -4.16e+04    4.17e+04\n",
       "What is your current occupation_Student                 -0.7078      0.695     -1.019      0.308      -2.069       0.654\n",
       "What is your current occupation_Unemployed              -1.1535      0.660     -1.747      0.081      -2.448       0.141\n",
       "What is your current occupation_Working Professional     1.7637      0.690      2.558      0.011       0.412       3.115\n",
       "Last Notable Activity_Had a Phone Conversation          24.2375   2.06e+04      0.001      0.999   -4.03e+04    4.04e+04\n",
       "Last Notable Activity_SMS Sent                           1.6171      0.083     19.496      0.000       1.455       1.780\n",
       "Last Notable Activity_Unreachable                        2.0521      0.568      3.616      0.000       0.940       3.164\n",
       "========================================================================================================================\n",
       "\"\"\""
      ]
     },
     "execution_count": 38,
     "metadata": {},
     "output_type": "execute_result"
    }
   ],
   "source": [
    "# Model 1\n",
    "X_train_m1 = train_X[col]\n",
    "X_train_m1 = sm.add_constant(X_train_m1)\n",
    "logm1 = sm.GLM(train_y,X_train_m1,family=sm.families.Binomial()).fit()\n",
    "logm1.summary()"
   ]
  },
  {
   "cell_type": "code",
   "execution_count": 39,
   "metadata": {},
   "outputs": [
    {
     "data": {
      "text/html": [
       "<table class=\"simpletable\">\n",
       "<caption>Generalized Linear Model Regression Results</caption>\n",
       "<tr>\n",
       "  <th>Dep. Variable:</th>      <td>Converted</td>    <th>  No. Observations:  </th>  <td>  6190</td>  \n",
       "</tr>\n",
       "<tr>\n",
       "  <th>Model:</th>                 <td>GLM</td>       <th>  Df Residuals:      </th>  <td>  6170</td>  \n",
       "</tr>\n",
       "<tr>\n",
       "  <th>Model Family:</th>       <td>Binomial</td>     <th>  Df Model:          </th>  <td>    19</td>  \n",
       "</tr>\n",
       "<tr>\n",
       "  <th>Link Function:</th>        <td>logit</td>      <th>  Scale:             </th> <td>  1.0000</td> \n",
       "</tr>\n",
       "<tr>\n",
       "  <th>Method:</th>               <td>IRLS</td>       <th>  Log-Likelihood:    </th> <td> -2519.0</td> \n",
       "</tr>\n",
       "<tr>\n",
       "  <th>Date:</th>           <td>Mon, 10 Jun 2019</td> <th>  Deviance:          </th> <td>  5038.0</td> \n",
       "</tr>\n",
       "<tr>\n",
       "  <th>Time:</th>               <td>19:32:45</td>     <th>  Pearson chi2:      </th> <td>7.26e+03</td> \n",
       "</tr>\n",
       "<tr>\n",
       "  <th>No. Iterations:</th>        <td>22</td>        <th>  Covariance Type:   </th> <td>nonrobust</td>\n",
       "</tr>\n",
       "</table>\n",
       "<table class=\"simpletable\">\n",
       "<tr>\n",
       "                            <td></td>                              <th>coef</th>     <th>std err</th>      <th>z</th>      <th>P>|z|</th>  <th>[0.025</th>    <th>0.975]</th>  \n",
       "</tr>\n",
       "<tr>\n",
       "  <th>const</th>                                                <td>   -1.2597</td> <td>    0.669</td> <td>   -1.883</td> <td> 0.060</td> <td>   -2.571</td> <td>    0.051</td>\n",
       "</tr>\n",
       "<tr>\n",
       "  <th>Do Not Email</th>                                         <td>   -1.3403</td> <td>    0.194</td> <td>   -6.907</td> <td> 0.000</td> <td>   -1.721</td> <td>   -0.960</td>\n",
       "</tr>\n",
       "<tr>\n",
       "  <th>TotalVisits</th>                                          <td>    1.3393</td> <td>    0.245</td> <td>    5.461</td> <td> 0.000</td> <td>    0.859</td> <td>    1.820</td>\n",
       "</tr>\n",
       "<tr>\n",
       "  <th>Total Time Spent on Website</th>                          <td>    4.5745</td> <td>    0.169</td> <td>   26.989</td> <td> 0.000</td> <td>    4.242</td> <td>    4.907</td>\n",
       "</tr>\n",
       "<tr>\n",
       "  <th>Page Views Per Visit</th>                                 <td>   -0.9640</td> <td>    0.232</td> <td>   -4.150</td> <td> 0.000</td> <td>   -1.419</td> <td>   -0.509</td>\n",
       "</tr>\n",
       "<tr>\n",
       "  <th>Lead Origin_Lead Add Form</th>                            <td>    3.8019</td> <td>    0.222</td> <td>   17.116</td> <td> 0.000</td> <td>    3.367</td> <td>    4.237</td>\n",
       "</tr>\n",
       "<tr>\n",
       "  <th>Lead Source_Olark Chat</th>                               <td>    1.2071</td> <td>    0.136</td> <td>    8.895</td> <td> 0.000</td> <td>    0.941</td> <td>    1.473</td>\n",
       "</tr>\n",
       "<tr>\n",
       "  <th>Lead Source_Welingak Website</th>                         <td>    2.8109</td> <td>    1.029</td> <td>    2.732</td> <td> 0.006</td> <td>    0.795</td> <td>    4.827</td>\n",
       "</tr>\n",
       "<tr>\n",
       "  <th>Last Activity_Converted to Lead</th>                      <td>   -1.1168</td> <td>    0.220</td> <td>   -5.079</td> <td> 0.000</td> <td>   -1.548</td> <td>   -0.686</td>\n",
       "</tr>\n",
       "<tr>\n",
       "  <th>Last Activity_Email Bounced</th>                          <td>   -0.8074</td> <td>    0.364</td> <td>   -2.218</td> <td> 0.027</td> <td>   -1.521</td> <td>   -0.094</td>\n",
       "</tr>\n",
       "<tr>\n",
       "  <th>Last Activity_Form Submitted on Website</th>              <td>   -0.8161</td> <td>    0.360</td> <td>   -2.266</td> <td> 0.023</td> <td>   -1.522</td> <td>   -0.110</td>\n",
       "</tr>\n",
       "<tr>\n",
       "  <th>Last Activity_Olark Chat Conversation</th>                <td>   -1.5174</td> <td>    0.166</td> <td>   -9.113</td> <td> 0.000</td> <td>   -1.844</td> <td>   -1.191</td>\n",
       "</tr>\n",
       "<tr>\n",
       "  <th>Country_Nigeria</th>                                      <td>  -23.0215</td> <td> 3.41e+04</td> <td>   -0.001</td> <td> 0.999</td> <td>-6.68e+04</td> <td> 6.67e+04</td>\n",
       "</tr>\n",
       "<tr>\n",
       "  <th>What is your current occupation_Housewife</th>            <td>   22.8660</td> <td> 2.13e+04</td> <td>    0.001</td> <td> 0.999</td> <td>-4.16e+04</td> <td> 4.17e+04</td>\n",
       "</tr>\n",
       "<tr>\n",
       "  <th>What is your current occupation_Student</th>              <td>   -0.7081</td> <td>    0.694</td> <td>   -1.020</td> <td> 0.308</td> <td>   -2.069</td> <td>    0.653</td>\n",
       "</tr>\n",
       "<tr>\n",
       "  <th>What is your current occupation_Unemployed</th>           <td>   -1.1545</td> <td>    0.660</td> <td>   -1.749</td> <td> 0.080</td> <td>   -2.448</td> <td>    0.139</td>\n",
       "</tr>\n",
       "<tr>\n",
       "  <th>What is your current occupation_Working Professional</th> <td>    1.7630</td> <td>    0.689</td> <td>    2.558</td> <td> 0.011</td> <td>    0.412</td> <td>    3.114</td>\n",
       "</tr>\n",
       "<tr>\n",
       "  <th>Last Notable Activity_Had a Phone Conversation</th>       <td>   24.2339</td> <td> 2.06e+04</td> <td>    0.001</td> <td> 0.999</td> <td>-4.04e+04</td> <td> 4.04e+04</td>\n",
       "</tr>\n",
       "<tr>\n",
       "  <th>Last Notable Activity_SMS Sent</th>                       <td>    1.6101</td> <td>    0.083</td> <td>   19.442</td> <td> 0.000</td> <td>    1.448</td> <td>    1.772</td>\n",
       "</tr>\n",
       "<tr>\n",
       "  <th>Last Notable Activity_Unreachable</th>                    <td>    2.0511</td> <td>    0.567</td> <td>    3.614</td> <td> 0.000</td> <td>    0.939</td> <td>    3.163</td>\n",
       "</tr>\n",
       "</table>"
      ],
      "text/plain": [
       "<class 'statsmodels.iolib.summary.Summary'>\n",
       "\"\"\"\n",
       "                 Generalized Linear Model Regression Results                  \n",
       "==============================================================================\n",
       "Dep. Variable:              Converted   No. Observations:                 6190\n",
       "Model:                            GLM   Df Residuals:                     6170\n",
       "Model Family:                Binomial   Df Model:                           19\n",
       "Link Function:                  logit   Scale:                          1.0000\n",
       "Method:                          IRLS   Log-Likelihood:                -2519.0\n",
       "Date:                Mon, 10 Jun 2019   Deviance:                       5038.0\n",
       "Time:                        19:32:45   Pearson chi2:                 7.26e+03\n",
       "No. Iterations:                    22   Covariance Type:             nonrobust\n",
       "========================================================================================================================\n",
       "                                                           coef    std err          z      P>|z|      [0.025      0.975]\n",
       "------------------------------------------------------------------------------------------------------------------------\n",
       "const                                                   -1.2597      0.669     -1.883      0.060      -2.571       0.051\n",
       "Do Not Email                                            -1.3403      0.194     -6.907      0.000      -1.721      -0.960\n",
       "TotalVisits                                              1.3393      0.245      5.461      0.000       0.859       1.820\n",
       "Total Time Spent on Website                              4.5745      0.169     26.989      0.000       4.242       4.907\n",
       "Page Views Per Visit                                    -0.9640      0.232     -4.150      0.000      -1.419      -0.509\n",
       "Lead Origin_Lead Add Form                                3.8019      0.222     17.116      0.000       3.367       4.237\n",
       "Lead Source_Olark Chat                                   1.2071      0.136      8.895      0.000       0.941       1.473\n",
       "Lead Source_Welingak Website                             2.8109      1.029      2.732      0.006       0.795       4.827\n",
       "Last Activity_Converted to Lead                         -1.1168      0.220     -5.079      0.000      -1.548      -0.686\n",
       "Last Activity_Email Bounced                             -0.8074      0.364     -2.218      0.027      -1.521      -0.094\n",
       "Last Activity_Form Submitted on Website                 -0.8161      0.360     -2.266      0.023      -1.522      -0.110\n",
       "Last Activity_Olark Chat Conversation                   -1.5174      0.166     -9.113      0.000      -1.844      -1.191\n",
       "Country_Nigeria                                        -23.0215   3.41e+04     -0.001      0.999   -6.68e+04    6.67e+04\n",
       "What is your current occupation_Housewife               22.8660   2.13e+04      0.001      0.999   -4.16e+04    4.17e+04\n",
       "What is your current occupation_Student                 -0.7081      0.694     -1.020      0.308      -2.069       0.653\n",
       "What is your current occupation_Unemployed              -1.1545      0.660     -1.749      0.080      -2.448       0.139\n",
       "What is your current occupation_Working Professional     1.7630      0.689      2.558      0.011       0.412       3.114\n",
       "Last Notable Activity_Had a Phone Conversation          24.2339   2.06e+04      0.001      0.999   -4.04e+04    4.04e+04\n",
       "Last Notable Activity_SMS Sent                           1.6101      0.083     19.442      0.000       1.448       1.772\n",
       "Last Notable Activity_Unreachable                        2.0511      0.567      3.614      0.000       0.939       3.163\n",
       "========================================================================================================================\n",
       "\"\"\""
      ]
     },
     "execution_count": 39,
     "metadata": {},
     "output_type": "execute_result"
    }
   ],
   "source": [
    "# Model 2 (Dropping Country_Italy as this is insignificant)\n",
    "X_train_m2 = X_train_m1.drop('Country_Italy',axis='columns')\n",
    "X_train_m2 = sm.add_constant(X_train_m2)\n",
    "logm2 = sm.GLM(train_y,X_train_m2,family=sm.families.Binomial()).fit()\n",
    "logm2.summary()"
   ]
  },
  {
   "cell_type": "code",
   "execution_count": 40,
   "metadata": {},
   "outputs": [
    {
     "data": {
      "text/html": [
       "<table class=\"simpletable\">\n",
       "<caption>Generalized Linear Model Regression Results</caption>\n",
       "<tr>\n",
       "  <th>Dep. Variable:</th>      <td>Converted</td>    <th>  No. Observations:  </th>  <td>  6190</td>  \n",
       "</tr>\n",
       "<tr>\n",
       "  <th>Model:</th>                 <td>GLM</td>       <th>  Df Residuals:      </th>  <td>  6171</td>  \n",
       "</tr>\n",
       "<tr>\n",
       "  <th>Model Family:</th>       <td>Binomial</td>     <th>  Df Model:          </th>  <td>    18</td>  \n",
       "</tr>\n",
       "<tr>\n",
       "  <th>Link Function:</th>        <td>logit</td>      <th>  Scale:             </th> <td>  1.0000</td> \n",
       "</tr>\n",
       "<tr>\n",
       "  <th>Method:</th>               <td>IRLS</td>       <th>  Log-Likelihood:    </th> <td> -2520.8</td> \n",
       "</tr>\n",
       "<tr>\n",
       "  <th>Date:</th>           <td>Mon, 10 Jun 2019</td> <th>  Deviance:          </th> <td>  5041.7</td> \n",
       "</tr>\n",
       "<tr>\n",
       "  <th>Time:</th>               <td>19:32:45</td>     <th>  Pearson chi2:      </th> <td>7.26e+03</td> \n",
       "</tr>\n",
       "<tr>\n",
       "  <th>No. Iterations:</th>        <td>22</td>        <th>  Covariance Type:   </th> <td>nonrobust</td>\n",
       "</tr>\n",
       "</table>\n",
       "<table class=\"simpletable\">\n",
       "<tr>\n",
       "                            <td></td>                              <th>coef</th>     <th>std err</th>      <th>z</th>      <th>P>|z|</th>  <th>[0.025</th>    <th>0.975]</th>  \n",
       "</tr>\n",
       "<tr>\n",
       "  <th>const</th>                                                <td>   -1.2603</td> <td>    0.669</td> <td>   -1.884</td> <td> 0.060</td> <td>   -2.571</td> <td>    0.051</td>\n",
       "</tr>\n",
       "<tr>\n",
       "  <th>Do Not Email</th>                                         <td>   -1.3379</td> <td>    0.194</td> <td>   -6.895</td> <td> 0.000</td> <td>   -1.718</td> <td>   -0.958</td>\n",
       "</tr>\n",
       "<tr>\n",
       "  <th>TotalVisits</th>                                          <td>    1.3453</td> <td>    0.245</td> <td>    5.487</td> <td> 0.000</td> <td>    0.865</td> <td>    1.826</td>\n",
       "</tr>\n",
       "<tr>\n",
       "  <th>Total Time Spent on Website</th>                          <td>    4.5734</td> <td>    0.169</td> <td>   26.991</td> <td> 0.000</td> <td>    4.241</td> <td>    4.906</td>\n",
       "</tr>\n",
       "<tr>\n",
       "  <th>Page Views Per Visit</th>                                 <td>   -0.9688</td> <td>    0.232</td> <td>   -4.171</td> <td> 0.000</td> <td>   -1.424</td> <td>   -0.514</td>\n",
       "</tr>\n",
       "<tr>\n",
       "  <th>Lead Origin_Lead Add Form</th>                            <td>    3.8032</td> <td>    0.222</td> <td>   17.123</td> <td> 0.000</td> <td>    3.368</td> <td>    4.239</td>\n",
       "</tr>\n",
       "<tr>\n",
       "  <th>Lead Source_Olark Chat</th>                               <td>    1.2087</td> <td>    0.136</td> <td>    8.907</td> <td> 0.000</td> <td>    0.943</td> <td>    1.475</td>\n",
       "</tr>\n",
       "<tr>\n",
       "  <th>Lead Source_Welingak Website</th>                         <td>    2.8108</td> <td>    1.029</td> <td>    2.732</td> <td> 0.006</td> <td>    0.795</td> <td>    4.827</td>\n",
       "</tr>\n",
       "<tr>\n",
       "  <th>Last Activity_Converted to Lead</th>                      <td>   -1.1150</td> <td>    0.220</td> <td>   -5.071</td> <td> 0.000</td> <td>   -1.546</td> <td>   -0.684</td>\n",
       "</tr>\n",
       "<tr>\n",
       "  <th>Last Activity_Email Bounced</th>                          <td>   -0.8083</td> <td>    0.364</td> <td>   -2.220</td> <td> 0.026</td> <td>   -1.522</td> <td>   -0.095</td>\n",
       "</tr>\n",
       "<tr>\n",
       "  <th>Last Activity_Form Submitted on Website</th>              <td>   -0.8148</td> <td>    0.360</td> <td>   -2.262</td> <td> 0.024</td> <td>   -1.521</td> <td>   -0.109</td>\n",
       "</tr>\n",
       "<tr>\n",
       "  <th>Last Activity_Olark Chat Conversation</th>                <td>   -1.5173</td> <td>    0.167</td> <td>   -9.113</td> <td> 0.000</td> <td>   -1.844</td> <td>   -1.191</td>\n",
       "</tr>\n",
       "<tr>\n",
       "  <th>What is your current occupation_Housewife</th>            <td>   22.8662</td> <td> 2.13e+04</td> <td>    0.001</td> <td> 0.999</td> <td>-4.16e+04</td> <td> 4.17e+04</td>\n",
       "</tr>\n",
       "<tr>\n",
       "  <th>What is your current occupation_Student</th>              <td>   -0.7077</td> <td>    0.694</td> <td>   -1.019</td> <td> 0.308</td> <td>   -2.068</td> <td>    0.653</td>\n",
       "</tr>\n",
       "<tr>\n",
       "  <th>What is your current occupation_Unemployed</th>           <td>   -1.1552</td> <td>    0.660</td> <td>   -1.750</td> <td> 0.080</td> <td>   -2.449</td> <td>    0.138</td>\n",
       "</tr>\n",
       "<tr>\n",
       "  <th>What is your current occupation_Working Professional</th> <td>    1.7637</td> <td>    0.689</td> <td>    2.559</td> <td> 0.010</td> <td>    0.413</td> <td>    3.114</td>\n",
       "</tr>\n",
       "<tr>\n",
       "  <th>Last Notable Activity_Had a Phone Conversation</th>       <td>   24.2357</td> <td> 2.06e+04</td> <td>    0.001</td> <td> 0.999</td> <td>-4.04e+04</td> <td> 4.04e+04</td>\n",
       "</tr>\n",
       "<tr>\n",
       "  <th>Last Notable Activity_SMS Sent</th>                       <td>    1.6081</td> <td>    0.083</td> <td>   19.430</td> <td> 0.000</td> <td>    1.446</td> <td>    1.770</td>\n",
       "</tr>\n",
       "<tr>\n",
       "  <th>Last Notable Activity_Unreachable</th>                    <td>    2.0524</td> <td>    0.567</td> <td>    3.617</td> <td> 0.000</td> <td>    0.940</td> <td>    3.165</td>\n",
       "</tr>\n",
       "</table>"
      ],
      "text/plain": [
       "<class 'statsmodels.iolib.summary.Summary'>\n",
       "\"\"\"\n",
       "                 Generalized Linear Model Regression Results                  \n",
       "==============================================================================\n",
       "Dep. Variable:              Converted   No. Observations:                 6190\n",
       "Model:                            GLM   Df Residuals:                     6171\n",
       "Model Family:                Binomial   Df Model:                           18\n",
       "Link Function:                  logit   Scale:                          1.0000\n",
       "Method:                          IRLS   Log-Likelihood:                -2520.8\n",
       "Date:                Mon, 10 Jun 2019   Deviance:                       5041.7\n",
       "Time:                        19:32:45   Pearson chi2:                 7.26e+03\n",
       "No. Iterations:                    22   Covariance Type:             nonrobust\n",
       "========================================================================================================================\n",
       "                                                           coef    std err          z      P>|z|      [0.025      0.975]\n",
       "------------------------------------------------------------------------------------------------------------------------\n",
       "const                                                   -1.2603      0.669     -1.884      0.060      -2.571       0.051\n",
       "Do Not Email                                            -1.3379      0.194     -6.895      0.000      -1.718      -0.958\n",
       "TotalVisits                                              1.3453      0.245      5.487      0.000       0.865       1.826\n",
       "Total Time Spent on Website                              4.5734      0.169     26.991      0.000       4.241       4.906\n",
       "Page Views Per Visit                                    -0.9688      0.232     -4.171      0.000      -1.424      -0.514\n",
       "Lead Origin_Lead Add Form                                3.8032      0.222     17.123      0.000       3.368       4.239\n",
       "Lead Source_Olark Chat                                   1.2087      0.136      8.907      0.000       0.943       1.475\n",
       "Lead Source_Welingak Website                             2.8108      1.029      2.732      0.006       0.795       4.827\n",
       "Last Activity_Converted to Lead                         -1.1150      0.220     -5.071      0.000      -1.546      -0.684\n",
       "Last Activity_Email Bounced                             -0.8083      0.364     -2.220      0.026      -1.522      -0.095\n",
       "Last Activity_Form Submitted on Website                 -0.8148      0.360     -2.262      0.024      -1.521      -0.109\n",
       "Last Activity_Olark Chat Conversation                   -1.5173      0.167     -9.113      0.000      -1.844      -1.191\n",
       "What is your current occupation_Housewife               22.8662   2.13e+04      0.001      0.999   -4.16e+04    4.17e+04\n",
       "What is your current occupation_Student                 -0.7077      0.694     -1.019      0.308      -2.068       0.653\n",
       "What is your current occupation_Unemployed              -1.1552      0.660     -1.750      0.080      -2.449       0.138\n",
       "What is your current occupation_Working Professional     1.7637      0.689      2.559      0.010       0.413       3.114\n",
       "Last Notable Activity_Had a Phone Conversation          24.2357   2.06e+04      0.001      0.999   -4.04e+04    4.04e+04\n",
       "Last Notable Activity_SMS Sent                           1.6081      0.083     19.430      0.000       1.446       1.770\n",
       "Last Notable Activity_Unreachable                        2.0524      0.567      3.617      0.000       0.940       3.165\n",
       "========================================================================================================================\n",
       "\"\"\""
      ]
     },
     "execution_count": 40,
     "metadata": {},
     "output_type": "execute_result"
    }
   ],
   "source": [
    "# Model 3 (Dropping Country_Nigeria as this is insignificant )\n",
    "X_train_m3  = X_train_m2.drop('Country_Nigeria',axis='columns')\n",
    "X_train_m3 = sm.add_constant(X_train_m3)\n",
    "logm3 = sm.GLM(train_y,X_train_m3,family=sm.families.Binomial()).fit()\n",
    "logm3.summary()"
   ]
  },
  {
   "cell_type": "code",
   "execution_count": 41,
   "metadata": {},
   "outputs": [
    {
     "data": {
      "text/html": [
       "<table class=\"simpletable\">\n",
       "<caption>Generalized Linear Model Regression Results</caption>\n",
       "<tr>\n",
       "  <th>Dep. Variable:</th>      <td>Converted</td>    <th>  No. Observations:  </th>  <td>  6190</td>  \n",
       "</tr>\n",
       "<tr>\n",
       "  <th>Model:</th>                 <td>GLM</td>       <th>  Df Residuals:      </th>  <td>  6172</td>  \n",
       "</tr>\n",
       "<tr>\n",
       "  <th>Model Family:</th>       <td>Binomial</td>     <th>  Df Model:          </th>  <td>    17</td>  \n",
       "</tr>\n",
       "<tr>\n",
       "  <th>Link Function:</th>        <td>logit</td>      <th>  Scale:             </th> <td>  1.0000</td> \n",
       "</tr>\n",
       "<tr>\n",
       "  <th>Method:</th>               <td>IRLS</td>       <th>  Log-Likelihood:    </th> <td> -2523.8</td> \n",
       "</tr>\n",
       "<tr>\n",
       "  <th>Date:</th>           <td>Mon, 10 Jun 2019</td> <th>  Deviance:          </th> <td>  5047.7</td> \n",
       "</tr>\n",
       "<tr>\n",
       "  <th>Time:</th>               <td>19:32:45</td>     <th>  Pearson chi2:      </th> <td>7.27e+03</td> \n",
       "</tr>\n",
       "<tr>\n",
       "  <th>No. Iterations:</th>        <td>21</td>        <th>  Covariance Type:   </th> <td>nonrobust</td>\n",
       "</tr>\n",
       "</table>\n",
       "<table class=\"simpletable\">\n",
       "<tr>\n",
       "                            <td></td>                              <th>coef</th>     <th>std err</th>      <th>z</th>      <th>P>|z|</th>  <th>[0.025</th>    <th>0.975]</th>  \n",
       "</tr>\n",
       "<tr>\n",
       "  <th>const</th>                                                <td>   -0.4380</td> <td>    0.589</td> <td>   -0.744</td> <td> 0.457</td> <td>   -1.592</td> <td>    0.716</td>\n",
       "</tr>\n",
       "<tr>\n",
       "  <th>Do Not Email</th>                                         <td>   -1.3381</td> <td>    0.194</td> <td>   -6.896</td> <td> 0.000</td> <td>   -1.718</td> <td>   -0.958</td>\n",
       "</tr>\n",
       "<tr>\n",
       "  <th>TotalVisits</th>                                          <td>    1.3356</td> <td>    0.245</td> <td>    5.449</td> <td> 0.000</td> <td>    0.855</td> <td>    1.816</td>\n",
       "</tr>\n",
       "<tr>\n",
       "  <th>Total Time Spent on Website</th>                          <td>    4.5679</td> <td>    0.169</td> <td>   26.980</td> <td> 0.000</td> <td>    4.236</td> <td>    4.900</td>\n",
       "</tr>\n",
       "<tr>\n",
       "  <th>Page Views Per Visit</th>                                 <td>   -0.9693</td> <td>    0.232</td> <td>   -4.175</td> <td> 0.000</td> <td>   -1.424</td> <td>   -0.514</td>\n",
       "</tr>\n",
       "<tr>\n",
       "  <th>Lead Origin_Lead Add Form</th>                            <td>    3.7988</td> <td>    0.222</td> <td>   17.116</td> <td> 0.000</td> <td>    3.364</td> <td>    4.234</td>\n",
       "</tr>\n",
       "<tr>\n",
       "  <th>Lead Source_Olark Chat</th>                               <td>    1.2023</td> <td>    0.136</td> <td>    8.867</td> <td> 0.000</td> <td>    0.937</td> <td>    1.468</td>\n",
       "</tr>\n",
       "<tr>\n",
       "  <th>Lead Source_Welingak Website</th>                         <td>    2.8100</td> <td>    1.029</td> <td>    2.732</td> <td> 0.006</td> <td>    0.794</td> <td>    4.826</td>\n",
       "</tr>\n",
       "<tr>\n",
       "  <th>Last Activity_Converted to Lead</th>                      <td>   -1.1171</td> <td>    0.220</td> <td>   -5.082</td> <td> 0.000</td> <td>   -1.548</td> <td>   -0.686</td>\n",
       "</tr>\n",
       "<tr>\n",
       "  <th>Last Activity_Email Bounced</th>                          <td>   -0.8092</td> <td>    0.364</td> <td>   -2.223</td> <td> 0.026</td> <td>   -1.523</td> <td>   -0.096</td>\n",
       "</tr>\n",
       "<tr>\n",
       "  <th>Last Activity_Form Submitted on Website</th>              <td>   -0.7846</td> <td>    0.354</td> <td>   -2.218</td> <td> 0.027</td> <td>   -1.478</td> <td>   -0.091</td>\n",
       "</tr>\n",
       "<tr>\n",
       "  <th>Last Activity_Olark Chat Conversation</th>                <td>   -1.5247</td> <td>    0.167</td> <td>   -9.140</td> <td> 0.000</td> <td>   -1.852</td> <td>   -1.198</td>\n",
       "</tr>\n",
       "<tr>\n",
       "  <th>What is your current occupation_Student</th>              <td>   -1.5237</td> <td>    0.619</td> <td>   -2.462</td> <td> 0.014</td> <td>   -2.737</td> <td>   -0.311</td>\n",
       "</tr>\n",
       "<tr>\n",
       "  <th>What is your current occupation_Unemployed</th>           <td>   -1.9715</td> <td>    0.580</td> <td>   -3.398</td> <td> 0.001</td> <td>   -3.109</td> <td>   -0.834</td>\n",
       "</tr>\n",
       "<tr>\n",
       "  <th>What is your current occupation_Working Professional</th> <td>    0.9460</td> <td>    0.612</td> <td>    1.545</td> <td> 0.122</td> <td>   -0.254</td> <td>    2.146</td>\n",
       "</tr>\n",
       "<tr>\n",
       "  <th>Last Notable Activity_Had a Phone Conversation</th>       <td>   23.2353</td> <td> 1.25e+04</td> <td>    0.002</td> <td> 0.999</td> <td>-2.45e+04</td> <td> 2.45e+04</td>\n",
       "</tr>\n",
       "<tr>\n",
       "  <th>Last Notable Activity_SMS Sent</th>                       <td>    1.6073</td> <td>    0.083</td> <td>   19.428</td> <td> 0.000</td> <td>    1.445</td> <td>    1.769</td>\n",
       "</tr>\n",
       "<tr>\n",
       "  <th>Last Notable Activity_Unreachable</th>                    <td>    2.0518</td> <td>    0.567</td> <td>    3.616</td> <td> 0.000</td> <td>    0.940</td> <td>    3.164</td>\n",
       "</tr>\n",
       "</table>"
      ],
      "text/plain": [
       "<class 'statsmodels.iolib.summary.Summary'>\n",
       "\"\"\"\n",
       "                 Generalized Linear Model Regression Results                  \n",
       "==============================================================================\n",
       "Dep. Variable:              Converted   No. Observations:                 6190\n",
       "Model:                            GLM   Df Residuals:                     6172\n",
       "Model Family:                Binomial   Df Model:                           17\n",
       "Link Function:                  logit   Scale:                          1.0000\n",
       "Method:                          IRLS   Log-Likelihood:                -2523.8\n",
       "Date:                Mon, 10 Jun 2019   Deviance:                       5047.7\n",
       "Time:                        19:32:45   Pearson chi2:                 7.27e+03\n",
       "No. Iterations:                    21   Covariance Type:             nonrobust\n",
       "========================================================================================================================\n",
       "                                                           coef    std err          z      P>|z|      [0.025      0.975]\n",
       "------------------------------------------------------------------------------------------------------------------------\n",
       "const                                                   -0.4380      0.589     -0.744      0.457      -1.592       0.716\n",
       "Do Not Email                                            -1.3381      0.194     -6.896      0.000      -1.718      -0.958\n",
       "TotalVisits                                              1.3356      0.245      5.449      0.000       0.855       1.816\n",
       "Total Time Spent on Website                              4.5679      0.169     26.980      0.000       4.236       4.900\n",
       "Page Views Per Visit                                    -0.9693      0.232     -4.175      0.000      -1.424      -0.514\n",
       "Lead Origin_Lead Add Form                                3.7988      0.222     17.116      0.000       3.364       4.234\n",
       "Lead Source_Olark Chat                                   1.2023      0.136      8.867      0.000       0.937       1.468\n",
       "Lead Source_Welingak Website                             2.8100      1.029      2.732      0.006       0.794       4.826\n",
       "Last Activity_Converted to Lead                         -1.1171      0.220     -5.082      0.000      -1.548      -0.686\n",
       "Last Activity_Email Bounced                             -0.8092      0.364     -2.223      0.026      -1.523      -0.096\n",
       "Last Activity_Form Submitted on Website                 -0.7846      0.354     -2.218      0.027      -1.478      -0.091\n",
       "Last Activity_Olark Chat Conversation                   -1.5247      0.167     -9.140      0.000      -1.852      -1.198\n",
       "What is your current occupation_Student                 -1.5237      0.619     -2.462      0.014      -2.737      -0.311\n",
       "What is your current occupation_Unemployed              -1.9715      0.580     -3.398      0.001      -3.109      -0.834\n",
       "What is your current occupation_Working Professional     0.9460      0.612      1.545      0.122      -0.254       2.146\n",
       "Last Notable Activity_Had a Phone Conversation          23.2353   1.25e+04      0.002      0.999   -2.45e+04    2.45e+04\n",
       "Last Notable Activity_SMS Sent                           1.6073      0.083     19.428      0.000       1.445       1.769\n",
       "Last Notable Activity_Unreachable                        2.0518      0.567      3.616      0.000       0.940       3.164\n",
       "========================================================================================================================\n",
       "\"\"\""
      ]
     },
     "execution_count": 41,
     "metadata": {},
     "output_type": "execute_result"
    }
   ],
   "source": [
    "# Model 4 (Dropping What is your current occupation_Housewife as it is insignificant)\n",
    "X_train_m4 = X_train_m3.drop('What is your current occupation_Housewife',axis='columns')\n",
    "X_train_m4 = sm.add_constant(X_train_m4)\n",
    "logm4 = sm.GLM(train_y,X_train_m4,family=sm.families.Binomial()).fit()\n",
    "logm4.summary()"
   ]
  },
  {
   "cell_type": "code",
   "execution_count": 42,
   "metadata": {},
   "outputs": [
    {
     "data": {
      "text/html": [
       "<table class=\"simpletable\">\n",
       "<caption>Generalized Linear Model Regression Results</caption>\n",
       "<tr>\n",
       "  <th>Dep. Variable:</th>      <td>Converted</td>    <th>  No. Observations:  </th>  <td>  6190</td>  \n",
       "</tr>\n",
       "<tr>\n",
       "  <th>Model:</th>                 <td>GLM</td>       <th>  Df Residuals:      </th>  <td>  6173</td>  \n",
       "</tr>\n",
       "<tr>\n",
       "  <th>Model Family:</th>       <td>Binomial</td>     <th>  Df Model:          </th>  <td>    16</td>  \n",
       "</tr>\n",
       "<tr>\n",
       "  <th>Link Function:</th>        <td>logit</td>      <th>  Scale:             </th> <td>  1.0000</td> \n",
       "</tr>\n",
       "<tr>\n",
       "  <th>Method:</th>               <td>IRLS</td>       <th>  Log-Likelihood:    </th> <td> -2532.4</td> \n",
       "</tr>\n",
       "<tr>\n",
       "  <th>Date:</th>           <td>Mon, 10 Jun 2019</td> <th>  Deviance:          </th> <td>  5064.9</td> \n",
       "</tr>\n",
       "<tr>\n",
       "  <th>Time:</th>               <td>19:32:45</td>     <th>  Pearson chi2:      </th> <td>7.28e+03</td> \n",
       "</tr>\n",
       "<tr>\n",
       "  <th>No. Iterations:</th>         <td>7</td>        <th>  Covariance Type:   </th> <td>nonrobust</td>\n",
       "</tr>\n",
       "</table>\n",
       "<table class=\"simpletable\">\n",
       "<tr>\n",
       "                            <td></td>                              <th>coef</th>     <th>std err</th>      <th>z</th>      <th>P>|z|</th>  <th>[0.025</th>    <th>0.975]</th>  \n",
       "</tr>\n",
       "<tr>\n",
       "  <th>const</th>                                                <td>   -0.4423</td> <td>    0.589</td> <td>   -0.751</td> <td> 0.452</td> <td>   -1.596</td> <td>    0.711</td>\n",
       "</tr>\n",
       "<tr>\n",
       "  <th>Do Not Email</th>                                         <td>   -1.3418</td> <td>    0.194</td> <td>   -6.922</td> <td> 0.000</td> <td>   -1.722</td> <td>   -0.962</td>\n",
       "</tr>\n",
       "<tr>\n",
       "  <th>TotalVisits</th>                                          <td>    1.3339</td> <td>    0.244</td> <td>    5.462</td> <td> 0.000</td> <td>    0.855</td> <td>    1.813</td>\n",
       "</tr>\n",
       "<tr>\n",
       "  <th>Total Time Spent on Website</th>                          <td>    4.5567</td> <td>    0.169</td> <td>   26.981</td> <td> 0.000</td> <td>    4.226</td> <td>    4.888</td>\n",
       "</tr>\n",
       "<tr>\n",
       "  <th>Page Views Per Visit</th>                                 <td>   -0.9401</td> <td>    0.231</td> <td>   -4.062</td> <td> 0.000</td> <td>   -1.394</td> <td>   -0.487</td>\n",
       "</tr>\n",
       "<tr>\n",
       "  <th>Lead Origin_Lead Add Form</th>                            <td>    3.7997</td> <td>    0.222</td> <td>   17.132</td> <td> 0.000</td> <td>    3.365</td> <td>    4.234</td>\n",
       "</tr>\n",
       "<tr>\n",
       "  <th>Lead Source_Olark Chat</th>                               <td>    1.2036</td> <td>    0.135</td> <td>    8.894</td> <td> 0.000</td> <td>    0.938</td> <td>    1.469</td>\n",
       "</tr>\n",
       "<tr>\n",
       "  <th>Lead Source_Welingak Website</th>                         <td>    2.8098</td> <td>    1.029</td> <td>    2.732</td> <td> 0.006</td> <td>    0.794</td> <td>    4.826</td>\n",
       "</tr>\n",
       "<tr>\n",
       "  <th>Last Activity_Converted to Lead</th>                      <td>   -1.1223</td> <td>    0.220</td> <td>   -5.108</td> <td> 0.000</td> <td>   -1.553</td> <td>   -0.692</td>\n",
       "</tr>\n",
       "<tr>\n",
       "  <th>Last Activity_Email Bounced</th>                          <td>   -0.8100</td> <td>    0.364</td> <td>   -2.227</td> <td> 0.026</td> <td>   -1.523</td> <td>   -0.097</td>\n",
       "</tr>\n",
       "<tr>\n",
       "  <th>Last Activity_Form Submitted on Website</th>              <td>   -0.7925</td> <td>    0.354</td> <td>   -2.242</td> <td> 0.025</td> <td>   -1.485</td> <td>   -0.100</td>\n",
       "</tr>\n",
       "<tr>\n",
       "  <th>Last Activity_Olark Chat Conversation</th>                <td>   -1.5288</td> <td>    0.167</td> <td>   -9.168</td> <td> 0.000</td> <td>   -1.856</td> <td>   -1.202</td>\n",
       "</tr>\n",
       "<tr>\n",
       "  <th>What is your current occupation_Student</th>              <td>   -1.5227</td> <td>    0.619</td> <td>   -2.461</td> <td> 0.014</td> <td>   -2.735</td> <td>   -0.310</td>\n",
       "</tr>\n",
       "<tr>\n",
       "  <th>What is your current occupation_Unemployed</th>           <td>   -1.9652</td> <td>    0.580</td> <td>   -3.388</td> <td> 0.001</td> <td>   -3.102</td> <td>   -0.828</td>\n",
       "</tr>\n",
       "<tr>\n",
       "  <th>What is your current occupation_Working Professional</th> <td>    0.9515</td> <td>    0.612</td> <td>    1.554</td> <td> 0.120</td> <td>   -0.249</td> <td>    2.152</td>\n",
       "</tr>\n",
       "<tr>\n",
       "  <th>Last Notable Activity_SMS Sent</th>                       <td>    1.5975</td> <td>    0.083</td> <td>   19.340</td> <td> 0.000</td> <td>    1.436</td> <td>    1.759</td>\n",
       "</tr>\n",
       "<tr>\n",
       "  <th>Last Notable Activity_Unreachable</th>                    <td>    2.0397</td> <td>    0.567</td> <td>    3.596</td> <td> 0.000</td> <td>    0.928</td> <td>    3.152</td>\n",
       "</tr>\n",
       "</table>"
      ],
      "text/plain": [
       "<class 'statsmodels.iolib.summary.Summary'>\n",
       "\"\"\"\n",
       "                 Generalized Linear Model Regression Results                  \n",
       "==============================================================================\n",
       "Dep. Variable:              Converted   No. Observations:                 6190\n",
       "Model:                            GLM   Df Residuals:                     6173\n",
       "Model Family:                Binomial   Df Model:                           16\n",
       "Link Function:                  logit   Scale:                          1.0000\n",
       "Method:                          IRLS   Log-Likelihood:                -2532.4\n",
       "Date:                Mon, 10 Jun 2019   Deviance:                       5064.9\n",
       "Time:                        19:32:45   Pearson chi2:                 7.28e+03\n",
       "No. Iterations:                     7   Covariance Type:             nonrobust\n",
       "========================================================================================================================\n",
       "                                                           coef    std err          z      P>|z|      [0.025      0.975]\n",
       "------------------------------------------------------------------------------------------------------------------------\n",
       "const                                                   -0.4423      0.589     -0.751      0.452      -1.596       0.711\n",
       "Do Not Email                                            -1.3418      0.194     -6.922      0.000      -1.722      -0.962\n",
       "TotalVisits                                              1.3339      0.244      5.462      0.000       0.855       1.813\n",
       "Total Time Spent on Website                              4.5567      0.169     26.981      0.000       4.226       4.888\n",
       "Page Views Per Visit                                    -0.9401      0.231     -4.062      0.000      -1.394      -0.487\n",
       "Lead Origin_Lead Add Form                                3.7997      0.222     17.132      0.000       3.365       4.234\n",
       "Lead Source_Olark Chat                                   1.2036      0.135      8.894      0.000       0.938       1.469\n",
       "Lead Source_Welingak Website                             2.8098      1.029      2.732      0.006       0.794       4.826\n",
       "Last Activity_Converted to Lead                         -1.1223      0.220     -5.108      0.000      -1.553      -0.692\n",
       "Last Activity_Email Bounced                             -0.8100      0.364     -2.227      0.026      -1.523      -0.097\n",
       "Last Activity_Form Submitted on Website                 -0.7925      0.354     -2.242      0.025      -1.485      -0.100\n",
       "Last Activity_Olark Chat Conversation                   -1.5288      0.167     -9.168      0.000      -1.856      -1.202\n",
       "What is your current occupation_Student                 -1.5227      0.619     -2.461      0.014      -2.735      -0.310\n",
       "What is your current occupation_Unemployed              -1.9652      0.580     -3.388      0.001      -3.102      -0.828\n",
       "What is your current occupation_Working Professional     0.9515      0.612      1.554      0.120      -0.249       2.152\n",
       "Last Notable Activity_SMS Sent                           1.5975      0.083     19.340      0.000       1.436       1.759\n",
       "Last Notable Activity_Unreachable                        2.0397      0.567      3.596      0.000       0.928       3.152\n",
       "========================================================================================================================\n",
       "\"\"\""
      ]
     },
     "execution_count": 42,
     "metadata": {},
     "output_type": "execute_result"
    }
   ],
   "source": [
    "# Model 5 (Dropping Last Notable Activity_Had a Phone Conversation as it is insignificant)\n",
    "X_train_m5 = X_train_m4.drop('Last Notable Activity_Had a Phone Conversation',axis='columns')\n",
    "X_train_m5 = sm.add_constant(X_train_m5)\n",
    "logm5 = sm.GLM(train_y,X_train_m5,family=sm.families.Binomial()).fit()\n",
    "logm5.summary()"
   ]
  },
  {
   "cell_type": "code",
   "execution_count": 43,
   "metadata": {},
   "outputs": [
    {
     "data": {
      "text/html": [
       "<table class=\"simpletable\">\n",
       "<caption>Generalized Linear Model Regression Results</caption>\n",
       "<tr>\n",
       "  <th>Dep. Variable:</th>      <td>Converted</td>    <th>  No. Observations:  </th>  <td>  6190</td>  \n",
       "</tr>\n",
       "<tr>\n",
       "  <th>Model:</th>                 <td>GLM</td>       <th>  Df Residuals:      </th>  <td>  6174</td>  \n",
       "</tr>\n",
       "<tr>\n",
       "  <th>Model Family:</th>       <td>Binomial</td>     <th>  Df Model:          </th>  <td>    15</td>  \n",
       "</tr>\n",
       "<tr>\n",
       "  <th>Link Function:</th>        <td>logit</td>      <th>  Scale:             </th> <td>  1.0000</td> \n",
       "</tr>\n",
       "<tr>\n",
       "  <th>Method:</th>               <td>IRLS</td>       <th>  Log-Likelihood:    </th> <td> -2533.5</td> \n",
       "</tr>\n",
       "<tr>\n",
       "  <th>Date:</th>           <td>Mon, 10 Jun 2019</td> <th>  Deviance:          </th> <td>  5067.1</td> \n",
       "</tr>\n",
       "<tr>\n",
       "  <th>Time:</th>               <td>19:32:45</td>     <th>  Pearson chi2:      </th> <td>7.16e+03</td> \n",
       "</tr>\n",
       "<tr>\n",
       "  <th>No. Iterations:</th>         <td>7</td>        <th>  Covariance Type:   </th> <td>nonrobust</td>\n",
       "</tr>\n",
       "</table>\n",
       "<table class=\"simpletable\">\n",
       "<tr>\n",
       "                       <td></td>                         <th>coef</th>     <th>std err</th>      <th>z</th>      <th>P>|z|</th>  <th>[0.025</th>    <th>0.975]</th>  \n",
       "</tr>\n",
       "<tr>\n",
       "  <th>const</th>                                      <td>    0.4229</td> <td>    0.218</td> <td>    1.944</td> <td> 0.052</td> <td>   -0.004</td> <td>    0.849</td>\n",
       "</tr>\n",
       "<tr>\n",
       "  <th>Do Not Email</th>                               <td>   -1.3388</td> <td>    0.194</td> <td>   -6.915</td> <td> 0.000</td> <td>   -1.718</td> <td>   -0.959</td>\n",
       "</tr>\n",
       "<tr>\n",
       "  <th>TotalVisits</th>                                <td>    1.3305</td> <td>    0.244</td> <td>    5.448</td> <td> 0.000</td> <td>    0.852</td> <td>    1.809</td>\n",
       "</tr>\n",
       "<tr>\n",
       "  <th>Total Time Spent on Website</th>                <td>    4.5543</td> <td>    0.169</td> <td>   26.975</td> <td> 0.000</td> <td>    4.223</td> <td>    4.885</td>\n",
       "</tr>\n",
       "<tr>\n",
       "  <th>Page Views Per Visit</th>                       <td>   -0.9358</td> <td>    0.231</td> <td>   -4.045</td> <td> 0.000</td> <td>   -1.389</td> <td>   -0.482</td>\n",
       "</tr>\n",
       "<tr>\n",
       "  <th>Lead Origin_Lead Add Form</th>                  <td>    3.7990</td> <td>    0.222</td> <td>   17.129</td> <td> 0.000</td> <td>    3.364</td> <td>    4.234</td>\n",
       "</tr>\n",
       "<tr>\n",
       "  <th>Lead Source_Olark Chat</th>                     <td>    1.2041</td> <td>    0.135</td> <td>    8.901</td> <td> 0.000</td> <td>    0.939</td> <td>    1.469</td>\n",
       "</tr>\n",
       "<tr>\n",
       "  <th>Lead Source_Welingak Website</th>               <td>    2.8102</td> <td>    1.029</td> <td>    2.732</td> <td> 0.006</td> <td>    0.794</td> <td>    4.826</td>\n",
       "</tr>\n",
       "<tr>\n",
       "  <th>Last Activity_Converted to Lead</th>            <td>   -1.1146</td> <td>    0.219</td> <td>   -5.089</td> <td> 0.000</td> <td>   -1.544</td> <td>   -0.685</td>\n",
       "</tr>\n",
       "<tr>\n",
       "  <th>Last Activity_Email Bounced</th>                <td>   -0.8066</td> <td>    0.363</td> <td>   -2.220</td> <td> 0.026</td> <td>   -1.519</td> <td>   -0.095</td>\n",
       "</tr>\n",
       "<tr>\n",
       "  <th>Last Activity_Form Submitted on Website</th>    <td>   -0.8302</td> <td>    0.357</td> <td>   -2.324</td> <td> 0.020</td> <td>   -1.530</td> <td>   -0.130</td>\n",
       "</tr>\n",
       "<tr>\n",
       "  <th>Last Activity_Olark Chat Conversation</th>      <td>   -1.5345</td> <td>    0.167</td> <td>   -9.186</td> <td> 0.000</td> <td>   -1.862</td> <td>   -1.207</td>\n",
       "</tr>\n",
       "<tr>\n",
       "  <th>What is your current occupation_Student</th>    <td>   -2.3881</td> <td>    0.289</td> <td>   -8.257</td> <td> 0.000</td> <td>   -2.955</td> <td>   -1.821</td>\n",
       "</tr>\n",
       "<tr>\n",
       "  <th>What is your current occupation_Unemployed</th> <td>   -2.8306</td> <td>    0.193</td> <td>  -14.638</td> <td> 0.000</td> <td>   -3.210</td> <td>   -2.452</td>\n",
       "</tr>\n",
       "<tr>\n",
       "  <th>Last Notable Activity_SMS Sent</th>             <td>    1.5990</td> <td>    0.083</td> <td>   19.375</td> <td> 0.000</td> <td>    1.437</td> <td>    1.761</td>\n",
       "</tr>\n",
       "<tr>\n",
       "  <th>Last Notable Activity_Unreachable</th>          <td>    2.0411</td> <td>    0.567</td> <td>    3.600</td> <td> 0.000</td> <td>    0.930</td> <td>    3.152</td>\n",
       "</tr>\n",
       "</table>"
      ],
      "text/plain": [
       "<class 'statsmodels.iolib.summary.Summary'>\n",
       "\"\"\"\n",
       "                 Generalized Linear Model Regression Results                  \n",
       "==============================================================================\n",
       "Dep. Variable:              Converted   No. Observations:                 6190\n",
       "Model:                            GLM   Df Residuals:                     6174\n",
       "Model Family:                Binomial   Df Model:                           15\n",
       "Link Function:                  logit   Scale:                          1.0000\n",
       "Method:                          IRLS   Log-Likelihood:                -2533.5\n",
       "Date:                Mon, 10 Jun 2019   Deviance:                       5067.1\n",
       "Time:                        19:32:45   Pearson chi2:                 7.16e+03\n",
       "No. Iterations:                     7   Covariance Type:             nonrobust\n",
       "==============================================================================================================\n",
       "                                                 coef    std err          z      P>|z|      [0.025      0.975]\n",
       "--------------------------------------------------------------------------------------------------------------\n",
       "const                                          0.4229      0.218      1.944      0.052      -0.004       0.849\n",
       "Do Not Email                                  -1.3388      0.194     -6.915      0.000      -1.718      -0.959\n",
       "TotalVisits                                    1.3305      0.244      5.448      0.000       0.852       1.809\n",
       "Total Time Spent on Website                    4.5543      0.169     26.975      0.000       4.223       4.885\n",
       "Page Views Per Visit                          -0.9358      0.231     -4.045      0.000      -1.389      -0.482\n",
       "Lead Origin_Lead Add Form                      3.7990      0.222     17.129      0.000       3.364       4.234\n",
       "Lead Source_Olark Chat                         1.2041      0.135      8.901      0.000       0.939       1.469\n",
       "Lead Source_Welingak Website                   2.8102      1.029      2.732      0.006       0.794       4.826\n",
       "Last Activity_Converted to Lead               -1.1146      0.219     -5.089      0.000      -1.544      -0.685\n",
       "Last Activity_Email Bounced                   -0.8066      0.363     -2.220      0.026      -1.519      -0.095\n",
       "Last Activity_Form Submitted on Website       -0.8302      0.357     -2.324      0.020      -1.530      -0.130\n",
       "Last Activity_Olark Chat Conversation         -1.5345      0.167     -9.186      0.000      -1.862      -1.207\n",
       "What is your current occupation_Student       -2.3881      0.289     -8.257      0.000      -2.955      -1.821\n",
       "What is your current occupation_Unemployed    -2.8306      0.193    -14.638      0.000      -3.210      -2.452\n",
       "Last Notable Activity_SMS Sent                 1.5990      0.083     19.375      0.000       1.437       1.761\n",
       "Last Notable Activity_Unreachable              2.0411      0.567      3.600      0.000       0.930       3.152\n",
       "==============================================================================================================\n",
       "\"\"\""
      ]
     },
     "execution_count": 43,
     "metadata": {},
     "output_type": "execute_result"
    }
   ],
   "source": [
    "# Model 6(Dropping What is your current occupation_Working Professional as it is insignificant)\n",
    "X_train_m6 = X_train_m5.drop('What is your current occupation_Working Professional',axis='columns')\n",
    "X_train_m6 = sm.add_constant(X_train_m6)\n",
    "logm6 = sm.GLM(train_y,X_train_m6,family=sm.families.Binomial()).fit()\n",
    "logm6.summary()"
   ]
  },
  {
   "cell_type": "code",
   "execution_count": 44,
   "metadata": {},
   "outputs": [
    {
     "data": {
      "text/html": [
       "<div>\n",
       "<style scoped>\n",
       "    .dataframe tbody tr th:only-of-type {\n",
       "        vertical-align: middle;\n",
       "    }\n",
       "\n",
       "    .dataframe tbody tr th {\n",
       "        vertical-align: top;\n",
       "    }\n",
       "\n",
       "    .dataframe thead th {\n",
       "        text-align: right;\n",
       "    }\n",
       "</style>\n",
       "<table border=\"1\" class=\"dataframe\">\n",
       "  <thead>\n",
       "    <tr style=\"text-align: right;\">\n",
       "      <th></th>\n",
       "      <th>Feature</th>\n",
       "      <th>VIF</th>\n",
       "    </tr>\n",
       "  </thead>\n",
       "  <tbody>\n",
       "    <tr>\n",
       "      <th>3</th>\n",
       "      <td>Page Views Per Visit</td>\n",
       "      <td>6.58</td>\n",
       "    </tr>\n",
       "    <tr>\n",
       "      <th>12</th>\n",
       "      <td>What is your current occupation_Unemployed</td>\n",
       "      <td>5.90</td>\n",
       "    </tr>\n",
       "    <tr>\n",
       "      <th>1</th>\n",
       "      <td>TotalVisits</td>\n",
       "      <td>5.57</td>\n",
       "    </tr>\n",
       "    <tr>\n",
       "      <th>5</th>\n",
       "      <td>Lead Source_Olark Chat</td>\n",
       "      <td>2.26</td>\n",
       "    </tr>\n",
       "    <tr>\n",
       "      <th>2</th>\n",
       "      <td>Total Time Spent on Website</td>\n",
       "      <td>2.09</td>\n",
       "    </tr>\n",
       "    <tr>\n",
       "      <th>0</th>\n",
       "      <td>Do Not Email</td>\n",
       "      <td>1.83</td>\n",
       "    </tr>\n",
       "    <tr>\n",
       "      <th>8</th>\n",
       "      <td>Last Activity_Email Bounced</td>\n",
       "      <td>1.78</td>\n",
       "    </tr>\n",
       "    <tr>\n",
       "      <th>4</th>\n",
       "      <td>Lead Origin_Lead Add Form</td>\n",
       "      <td>1.49</td>\n",
       "    </tr>\n",
       "    <tr>\n",
       "      <th>10</th>\n",
       "      <td>Last Activity_Olark Chat Conversation</td>\n",
       "      <td>1.42</td>\n",
       "    </tr>\n",
       "    <tr>\n",
       "      <th>13</th>\n",
       "      <td>Last Notable Activity_SMS Sent</td>\n",
       "      <td>1.42</td>\n",
       "    </tr>\n",
       "    <tr>\n",
       "      <th>6</th>\n",
       "      <td>Lead Source_Welingak Website</td>\n",
       "      <td>1.26</td>\n",
       "    </tr>\n",
       "    <tr>\n",
       "      <th>7</th>\n",
       "      <td>Last Activity_Converted to Lead</td>\n",
       "      <td>1.13</td>\n",
       "    </tr>\n",
       "    <tr>\n",
       "      <th>11</th>\n",
       "      <td>What is your current occupation_Student</td>\n",
       "      <td>1.12</td>\n",
       "    </tr>\n",
       "    <tr>\n",
       "      <th>9</th>\n",
       "      <td>Last Activity_Form Submitted on Website</td>\n",
       "      <td>1.02</td>\n",
       "    </tr>\n",
       "    <tr>\n",
       "      <th>14</th>\n",
       "      <td>Last Notable Activity_Unreachable</td>\n",
       "      <td>1.01</td>\n",
       "    </tr>\n",
       "  </tbody>\n",
       "</table>\n",
       "</div>"
      ],
      "text/plain": [
       "                                       Feature   VIF\n",
       "3                         Page Views Per Visit  6.58\n",
       "12  What is your current occupation_Unemployed  5.90\n",
       "1                                  TotalVisits  5.57\n",
       "5                       Lead Source_Olark Chat  2.26\n",
       "2                  Total Time Spent on Website  2.09\n",
       "0                                 Do Not Email  1.83\n",
       "8                  Last Activity_Email Bounced  1.78\n",
       "4                    Lead Origin_Lead Add Form  1.49\n",
       "10       Last Activity_Olark Chat Conversation  1.42\n",
       "13              Last Notable Activity_SMS Sent  1.42\n",
       "6                 Lead Source_Welingak Website  1.26\n",
       "7              Last Activity_Converted to Lead  1.13\n",
       "11     What is your current occupation_Student  1.12\n",
       "9      Last Activity_Form Submitted on Website  1.02\n",
       "14           Last Notable Activity_Unreachable  1.01"
      ]
     },
     "execution_count": 44,
     "metadata": {},
     "output_type": "execute_result"
    }
   ],
   "source": [
    "# As the output for the model is looking fine lets check the VIF\n",
    "calculate_vif(X_train_m6.drop('const',axis='columns'))"
   ]
  },
  {
   "cell_type": "code",
   "execution_count": 45,
   "metadata": {},
   "outputs": [
    {
     "data": {
      "text/html": [
       "<table class=\"simpletable\">\n",
       "<caption>Generalized Linear Model Regression Results</caption>\n",
       "<tr>\n",
       "  <th>Dep. Variable:</th>      <td>Converted</td>    <th>  No. Observations:  </th>  <td>  6190</td>  \n",
       "</tr>\n",
       "<tr>\n",
       "  <th>Model:</th>                 <td>GLM</td>       <th>  Df Residuals:      </th>  <td>  6175</td>  \n",
       "</tr>\n",
       "<tr>\n",
       "  <th>Model Family:</th>       <td>Binomial</td>     <th>  Df Model:          </th>  <td>    14</td>  \n",
       "</tr>\n",
       "<tr>\n",
       "  <th>Link Function:</th>        <td>logit</td>      <th>  Scale:             </th> <td>  1.0000</td> \n",
       "</tr>\n",
       "<tr>\n",
       "  <th>Method:</th>               <td>IRLS</td>       <th>  Log-Likelihood:    </th> <td> -2541.8</td> \n",
       "</tr>\n",
       "<tr>\n",
       "  <th>Date:</th>           <td>Mon, 10 Jun 2019</td> <th>  Deviance:          </th> <td>  5083.6</td> \n",
       "</tr>\n",
       "<tr>\n",
       "  <th>Time:</th>               <td>19:32:46</td>     <th>  Pearson chi2:      </th> <td>7.16e+03</td> \n",
       "</tr>\n",
       "<tr>\n",
       "  <th>No. Iterations:</th>         <td>7</td>        <th>  Covariance Type:   </th> <td>nonrobust</td>\n",
       "</tr>\n",
       "</table>\n",
       "<table class=\"simpletable\">\n",
       "<tr>\n",
       "                       <td></td>                         <th>coef</th>     <th>std err</th>      <th>z</th>      <th>P>|z|</th>  <th>[0.025</th>    <th>0.975]</th>  \n",
       "</tr>\n",
       "<tr>\n",
       "  <th>const</th>                                      <td>    0.1841</td> <td>    0.209</td> <td>    0.880</td> <td> 0.379</td> <td>   -0.226</td> <td>    0.594</td>\n",
       "</tr>\n",
       "<tr>\n",
       "  <th>Do Not Email</th>                               <td>   -1.3550</td> <td>    0.193</td> <td>   -7.030</td> <td> 0.000</td> <td>   -1.733</td> <td>   -0.977</td>\n",
       "</tr>\n",
       "<tr>\n",
       "  <th>TotalVisits</th>                                <td>    0.8394</td> <td>    0.213</td> <td>    3.934</td> <td> 0.000</td> <td>    0.421</td> <td>    1.258</td>\n",
       "</tr>\n",
       "<tr>\n",
       "  <th>Total Time Spent on Website</th>                <td>    4.5473</td> <td>    0.169</td> <td>   26.969</td> <td> 0.000</td> <td>    4.217</td> <td>    4.878</td>\n",
       "</tr>\n",
       "<tr>\n",
       "  <th>Lead Origin_Lead Add Form</th>                  <td>    4.0255</td> <td>    0.215</td> <td>   18.708</td> <td> 0.000</td> <td>    3.604</td> <td>    4.447</td>\n",
       "</tr>\n",
       "<tr>\n",
       "  <th>Lead Source_Olark Chat</th>                     <td>    1.4240</td> <td>    0.125</td> <td>   11.397</td> <td> 0.000</td> <td>    1.179</td> <td>    1.669</td>\n",
       "</tr>\n",
       "<tr>\n",
       "  <th>Lead Source_Welingak Website</th>               <td>    2.8117</td> <td>    1.029</td> <td>    2.734</td> <td> 0.006</td> <td>    0.796</td> <td>    4.828</td>\n",
       "</tr>\n",
       "<tr>\n",
       "  <th>Last Activity_Converted to Lead</th>            <td>   -1.0544</td> <td>    0.219</td> <td>   -4.814</td> <td> 0.000</td> <td>   -1.484</td> <td>   -0.625</td>\n",
       "</tr>\n",
       "<tr>\n",
       "  <th>Last Activity_Email Bounced</th>                <td>   -0.7405</td> <td>    0.361</td> <td>   -2.049</td> <td> 0.040</td> <td>   -1.449</td> <td>   -0.032</td>\n",
       "</tr>\n",
       "<tr>\n",
       "  <th>Last Activity_Form Submitted on Website</th>    <td>   -0.8435</td> <td>    0.359</td> <td>   -2.352</td> <td> 0.019</td> <td>   -1.546</td> <td>   -0.141</td>\n",
       "</tr>\n",
       "<tr>\n",
       "  <th>Last Activity_Olark Chat Conversation</th>      <td>   -1.5099</td> <td>    0.167</td> <td>   -9.057</td> <td> 0.000</td> <td>   -1.837</td> <td>   -1.183</td>\n",
       "</tr>\n",
       "<tr>\n",
       "  <th>What is your current occupation_Student</th>    <td>   -2.3620</td> <td>    0.290</td> <td>   -8.158</td> <td> 0.000</td> <td>   -2.930</td> <td>   -1.795</td>\n",
       "</tr>\n",
       "<tr>\n",
       "  <th>What is your current occupation_Unemployed</th> <td>   -2.8168</td> <td>    0.193</td> <td>  -14.601</td> <td> 0.000</td> <td>   -3.195</td> <td>   -2.439</td>\n",
       "</tr>\n",
       "<tr>\n",
       "  <th>Last Notable Activity_SMS Sent</th>             <td>    1.5757</td> <td>    0.082</td> <td>   19.207</td> <td> 0.000</td> <td>    1.415</td> <td>    1.737</td>\n",
       "</tr>\n",
       "<tr>\n",
       "  <th>Last Notable Activity_Unreachable</th>          <td>    2.0216</td> <td>    0.571</td> <td>    3.541</td> <td> 0.000</td> <td>    0.902</td> <td>    3.141</td>\n",
       "</tr>\n",
       "</table>"
      ],
      "text/plain": [
       "<class 'statsmodels.iolib.summary.Summary'>\n",
       "\"\"\"\n",
       "                 Generalized Linear Model Regression Results                  \n",
       "==============================================================================\n",
       "Dep. Variable:              Converted   No. Observations:                 6190\n",
       "Model:                            GLM   Df Residuals:                     6175\n",
       "Model Family:                Binomial   Df Model:                           14\n",
       "Link Function:                  logit   Scale:                          1.0000\n",
       "Method:                          IRLS   Log-Likelihood:                -2541.8\n",
       "Date:                Mon, 10 Jun 2019   Deviance:                       5083.6\n",
       "Time:                        19:32:46   Pearson chi2:                 7.16e+03\n",
       "No. Iterations:                     7   Covariance Type:             nonrobust\n",
       "==============================================================================================================\n",
       "                                                 coef    std err          z      P>|z|      [0.025      0.975]\n",
       "--------------------------------------------------------------------------------------------------------------\n",
       "const                                          0.1841      0.209      0.880      0.379      -0.226       0.594\n",
       "Do Not Email                                  -1.3550      0.193     -7.030      0.000      -1.733      -0.977\n",
       "TotalVisits                                    0.8394      0.213      3.934      0.000       0.421       1.258\n",
       "Total Time Spent on Website                    4.5473      0.169     26.969      0.000       4.217       4.878\n",
       "Lead Origin_Lead Add Form                      4.0255      0.215     18.708      0.000       3.604       4.447\n",
       "Lead Source_Olark Chat                         1.4240      0.125     11.397      0.000       1.179       1.669\n",
       "Lead Source_Welingak Website                   2.8117      1.029      2.734      0.006       0.796       4.828\n",
       "Last Activity_Converted to Lead               -1.0544      0.219     -4.814      0.000      -1.484      -0.625\n",
       "Last Activity_Email Bounced                   -0.7405      0.361     -2.049      0.040      -1.449      -0.032\n",
       "Last Activity_Form Submitted on Website       -0.8435      0.359     -2.352      0.019      -1.546      -0.141\n",
       "Last Activity_Olark Chat Conversation         -1.5099      0.167     -9.057      0.000      -1.837      -1.183\n",
       "What is your current occupation_Student       -2.3620      0.290     -8.158      0.000      -2.930      -1.795\n",
       "What is your current occupation_Unemployed    -2.8168      0.193    -14.601      0.000      -3.195      -2.439\n",
       "Last Notable Activity_SMS Sent                 1.5757      0.082     19.207      0.000       1.415       1.737\n",
       "Last Notable Activity_Unreachable              2.0216      0.571      3.541      0.000       0.902       3.141\n",
       "==============================================================================================================\n",
       "\"\"\""
      ]
     },
     "execution_count": 45,
     "metadata": {},
     "output_type": "execute_result"
    }
   ],
   "source": [
    "# Model 7 ( Dropping Page Views Per Visit as this is insignifacant for our model)\n",
    "X_train_m7 = X_train_m6.drop('Page Views Per Visit',axis='columns')\n",
    "X_train_m7 = sm.add_constant(X_train_m7)\n",
    "logm7 = sm.GLM(train_y,X_train_m7,family=sm.families.Binomial()).fit()\n",
    "logm7.summary()"
   ]
  },
  {
   "cell_type": "code",
   "execution_count": 46,
   "metadata": {},
   "outputs": [],
   "source": [
    "#list(zip(train_X.columns,rfe.support_,rfe.ranking_))"
   ]
  },
  {
   "cell_type": "code",
   "execution_count": 47,
   "metadata": {},
   "outputs": [
    {
     "data": {
      "text/html": [
       "<div>\n",
       "<style scoped>\n",
       "    .dataframe tbody tr th:only-of-type {\n",
       "        vertical-align: middle;\n",
       "    }\n",
       "\n",
       "    .dataframe tbody tr th {\n",
       "        vertical-align: top;\n",
       "    }\n",
       "\n",
       "    .dataframe thead th {\n",
       "        text-align: right;\n",
       "    }\n",
       "</style>\n",
       "<table border=\"1\" class=\"dataframe\">\n",
       "  <thead>\n",
       "    <tr style=\"text-align: right;\">\n",
       "      <th></th>\n",
       "      <th>Feature</th>\n",
       "      <th>VIF</th>\n",
       "    </tr>\n",
       "  </thead>\n",
       "  <tbody>\n",
       "    <tr>\n",
       "      <th>11</th>\n",
       "      <td>What is your current occupation_Unemployed</td>\n",
       "      <td>4.99</td>\n",
       "    </tr>\n",
       "    <tr>\n",
       "      <th>1</th>\n",
       "      <td>TotalVisits</td>\n",
       "      <td>3.41</td>\n",
       "    </tr>\n",
       "    <tr>\n",
       "      <th>2</th>\n",
       "      <td>Total Time Spent on Website</td>\n",
       "      <td>2.07</td>\n",
       "    </tr>\n",
       "    <tr>\n",
       "      <th>4</th>\n",
       "      <td>Lead Source_Olark Chat</td>\n",
       "      <td>2.07</td>\n",
       "    </tr>\n",
       "    <tr>\n",
       "      <th>0</th>\n",
       "      <td>Do Not Email</td>\n",
       "      <td>1.83</td>\n",
       "    </tr>\n",
       "    <tr>\n",
       "      <th>7</th>\n",
       "      <td>Last Activity_Email Bounced</td>\n",
       "      <td>1.78</td>\n",
       "    </tr>\n",
       "    <tr>\n",
       "      <th>3</th>\n",
       "      <td>Lead Origin_Lead Add Form</td>\n",
       "      <td>1.44</td>\n",
       "    </tr>\n",
       "    <tr>\n",
       "      <th>9</th>\n",
       "      <td>Last Activity_Olark Chat Conversation</td>\n",
       "      <td>1.42</td>\n",
       "    </tr>\n",
       "    <tr>\n",
       "      <th>12</th>\n",
       "      <td>Last Notable Activity_SMS Sent</td>\n",
       "      <td>1.41</td>\n",
       "    </tr>\n",
       "    <tr>\n",
       "      <th>5</th>\n",
       "      <td>Lead Source_Welingak Website</td>\n",
       "      <td>1.26</td>\n",
       "    </tr>\n",
       "    <tr>\n",
       "      <th>6</th>\n",
       "      <td>Last Activity_Converted to Lead</td>\n",
       "      <td>1.12</td>\n",
       "    </tr>\n",
       "    <tr>\n",
       "      <th>10</th>\n",
       "      <td>What is your current occupation_Student</td>\n",
       "      <td>1.11</td>\n",
       "    </tr>\n",
       "    <tr>\n",
       "      <th>8</th>\n",
       "      <td>Last Activity_Form Submitted on Website</td>\n",
       "      <td>1.02</td>\n",
       "    </tr>\n",
       "    <tr>\n",
       "      <th>13</th>\n",
       "      <td>Last Notable Activity_Unreachable</td>\n",
       "      <td>1.01</td>\n",
       "    </tr>\n",
       "  </tbody>\n",
       "</table>\n",
       "</div>"
      ],
      "text/plain": [
       "                                       Feature   VIF\n",
       "11  What is your current occupation_Unemployed  4.99\n",
       "1                                  TotalVisits  3.41\n",
       "2                  Total Time Spent on Website  2.07\n",
       "4                       Lead Source_Olark Chat  2.07\n",
       "0                                 Do Not Email  1.83\n",
       "7                  Last Activity_Email Bounced  1.78\n",
       "3                    Lead Origin_Lead Add Form  1.44\n",
       "9        Last Activity_Olark Chat Conversation  1.42\n",
       "12              Last Notable Activity_SMS Sent  1.41\n",
       "5                 Lead Source_Welingak Website  1.26\n",
       "6              Last Activity_Converted to Lead  1.12\n",
       "10     What is your current occupation_Student  1.11\n",
       "8      Last Activity_Form Submitted on Website  1.02\n",
       "13           Last Notable Activity_Unreachable  1.01"
      ]
     },
     "execution_count": 47,
     "metadata": {},
     "output_type": "execute_result"
    }
   ],
   "source": [
    "# Calculating the VIF Again\n",
    "calculate_vif(X_train_m7.drop('const',axis='columns'))"
   ]
  },
  {
   "cell_type": "code",
   "execution_count": 48,
   "metadata": {},
   "outputs": [],
   "source": [
    "train_y_pred = logm7.predict(X_train_m7).values.reshape(-1)"
   ]
  },
  {
   "cell_type": "code",
   "execution_count": 49,
   "metadata": {},
   "outputs": [
    {
     "data": {
      "text/plain": [
       "array([0.8525326 , 0.61164739, 0.10239913, 0.59073753, 0.22992542])"
      ]
     },
     "execution_count": 49,
     "metadata": {},
     "output_type": "execute_result"
    }
   ],
   "source": [
    "train_y_pred[:5]"
   ]
  },
  {
   "cell_type": "markdown",
   "metadata": {},
   "source": [
    "#### Creating a dataframe that will store the actual converted and predected conversion"
   ]
  },
  {
   "cell_type": "code",
   "execution_count": 50,
   "metadata": {},
   "outputs": [
    {
     "data": {
      "text/html": [
       "<div>\n",
       "<style scoped>\n",
       "    .dataframe tbody tr th:only-of-type {\n",
       "        vertical-align: middle;\n",
       "    }\n",
       "\n",
       "    .dataframe tbody tr th {\n",
       "        vertical-align: top;\n",
       "    }\n",
       "\n",
       "    .dataframe thead th {\n",
       "        text-align: right;\n",
       "    }\n",
       "</style>\n",
       "<table border=\"1\" class=\"dataframe\">\n",
       "  <thead>\n",
       "    <tr style=\"text-align: right;\">\n",
       "      <th></th>\n",
       "      <th>Converted</th>\n",
       "      <th>Converted_Prob</th>\n",
       "      <th>Cust_ID</th>\n",
       "    </tr>\n",
       "  </thead>\n",
       "  <tbody>\n",
       "    <tr>\n",
       "      <th>0</th>\n",
       "      <td>0</td>\n",
       "      <td>0.852533</td>\n",
       "      <td>8105</td>\n",
       "    </tr>\n",
       "    <tr>\n",
       "      <th>1</th>\n",
       "      <td>0</td>\n",
       "      <td>0.611647</td>\n",
       "      <td>6856</td>\n",
       "    </tr>\n",
       "    <tr>\n",
       "      <th>2</th>\n",
       "      <td>0</td>\n",
       "      <td>0.102399</td>\n",
       "      <td>8272</td>\n",
       "    </tr>\n",
       "    <tr>\n",
       "      <th>3</th>\n",
       "      <td>1</td>\n",
       "      <td>0.590738</td>\n",
       "      <td>1615</td>\n",
       "    </tr>\n",
       "    <tr>\n",
       "      <th>4</th>\n",
       "      <td>1</td>\n",
       "      <td>0.229925</td>\n",
       "      <td>7263</td>\n",
       "    </tr>\n",
       "  </tbody>\n",
       "</table>\n",
       "</div>"
      ],
      "text/plain": [
       "   Converted  Converted_Prob  Cust_ID\n",
       "0          0        0.852533     8105\n",
       "1          0        0.611647     6856\n",
       "2          0        0.102399     8272\n",
       "3          1        0.590738     1615\n",
       "4          1        0.229925     7263"
      ]
     },
     "execution_count": 50,
     "metadata": {},
     "output_type": "execute_result"
    }
   ],
   "source": [
    "train_y_pred_final = pd.DataFrame({'Converted':train_y.values,'Converted_Prob':train_y_pred})\n",
    "train_y_pred_final['Cust_ID'] = train_y.index\n",
    "train_y_pred_final.head()"
   ]
  },
  {
   "cell_type": "markdown",
   "metadata": {},
   "source": [
    "#### For now lets create a column which will store the predicted COnversion where if the P>0.5 then it 1 or 0"
   ]
  },
  {
   "cell_type": "code",
   "execution_count": 51,
   "metadata": {},
   "outputs": [
    {
     "data": {
      "text/html": [
       "<div>\n",
       "<style scoped>\n",
       "    .dataframe tbody tr th:only-of-type {\n",
       "        vertical-align: middle;\n",
       "    }\n",
       "\n",
       "    .dataframe tbody tr th {\n",
       "        vertical-align: top;\n",
       "    }\n",
       "\n",
       "    .dataframe thead th {\n",
       "        text-align: right;\n",
       "    }\n",
       "</style>\n",
       "<table border=\"1\" class=\"dataframe\">\n",
       "  <thead>\n",
       "    <tr style=\"text-align: right;\">\n",
       "      <th></th>\n",
       "      <th>Converted</th>\n",
       "      <th>Converted_Prob</th>\n",
       "      <th>Cust_ID</th>\n",
       "      <th>Predicted</th>\n",
       "    </tr>\n",
       "  </thead>\n",
       "  <tbody>\n",
       "    <tr>\n",
       "      <th>0</th>\n",
       "      <td>0</td>\n",
       "      <td>0.852533</td>\n",
       "      <td>8105</td>\n",
       "      <td>1</td>\n",
       "    </tr>\n",
       "    <tr>\n",
       "      <th>1</th>\n",
       "      <td>0</td>\n",
       "      <td>0.611647</td>\n",
       "      <td>6856</td>\n",
       "      <td>1</td>\n",
       "    </tr>\n",
       "    <tr>\n",
       "      <th>2</th>\n",
       "      <td>0</td>\n",
       "      <td>0.102399</td>\n",
       "      <td>8272</td>\n",
       "      <td>0</td>\n",
       "    </tr>\n",
       "    <tr>\n",
       "      <th>3</th>\n",
       "      <td>1</td>\n",
       "      <td>0.590738</td>\n",
       "      <td>1615</td>\n",
       "      <td>1</td>\n",
       "    </tr>\n",
       "    <tr>\n",
       "      <th>4</th>\n",
       "      <td>1</td>\n",
       "      <td>0.229925</td>\n",
       "      <td>7263</td>\n",
       "      <td>0</td>\n",
       "    </tr>\n",
       "  </tbody>\n",
       "</table>\n",
       "</div>"
      ],
      "text/plain": [
       "   Converted  Converted_Prob  Cust_ID  Predicted\n",
       "0          0        0.852533     8105          1\n",
       "1          0        0.611647     6856          1\n",
       "2          0        0.102399     8272          0\n",
       "3          1        0.590738     1615          1\n",
       "4          1        0.229925     7263          0"
      ]
     },
     "execution_count": 51,
     "metadata": {},
     "output_type": "execute_result"
    }
   ],
   "source": [
    "train_y_pred_final['Predicted']=train_y_pred_final.Converted_Prob.map(lambda x : 1 if x>0.5 else 0)\n",
    "train_y_pred_final.head(5)"
   ]
  },
  {
   "cell_type": "markdown",
   "metadata": {},
   "source": [
    "#### lest calculate the accuracy score"
   ]
  },
  {
   "cell_type": "code",
   "execution_count": 52,
   "metadata": {},
   "outputs": [
    {
     "name": "stdout",
     "output_type": "stream",
     "text": [
      "0.8174474959612278\n"
     ]
    }
   ],
   "source": [
    "print(accuracy_score(train_y_pred_final.Converted,train_y_pred_final.Predicted))"
   ]
  },
  {
   "cell_type": "markdown",
   "metadata": {},
   "source": [
    "#### Lets check the confusion metrix"
   ]
  },
  {
   "cell_type": "code",
   "execution_count": 53,
   "metadata": {},
   "outputs": [
    {
     "data": {
      "text/plain": [
       "array([[3358,  437],\n",
       "       [ 693, 1702]], dtype=int64)"
      ]
     },
     "execution_count": 53,
     "metadata": {},
     "output_type": "execute_result"
    }
   ],
   "source": [
    "confusion = confusion_matrix(train_y_pred_final.Converted,train_y_pred_final.Predicted)\n",
    "confusion"
   ]
  },
  {
   "cell_type": "code",
   "execution_count": 54,
   "metadata": {},
   "outputs": [],
   "source": [
    "# Predicted     not converted    converted\n",
    "# Actual\n",
    "# not_converted        3358      437\n",
    "# converted            693       1702  "
   ]
  },
  {
   "cell_type": "markdown",
   "metadata": {},
   "source": [
    "#### We can see that the accuracy is good but our main focus as to contact with those people which are likely to get converted but False negative is very high for the model"
   ]
  },
  {
   "cell_type": "code",
   "execution_count": 55,
   "metadata": {},
   "outputs": [],
   "source": [
    "TP = confusion[1,1]\n",
    "TN = confusion[0,0]\n",
    "FN = confusion[1,0]\n",
    "FP = confusion[0,1]"
   ]
  },
  {
   "cell_type": "code",
   "execution_count": 56,
   "metadata": {},
   "outputs": [
    {
     "data": {
      "text/plain": [
       "71.06471816283924"
      ]
     },
     "execution_count": 56,
     "metadata": {},
     "output_type": "execute_result"
    }
   ],
   "source": [
    "# Sensitivity\n",
    "100*(TP/float(TP+FN))"
   ]
  },
  {
   "cell_type": "code",
   "execution_count": 57,
   "metadata": {},
   "outputs": [
    {
     "data": {
      "text/plain": [
       "88.48484848484848"
      ]
     },
     "execution_count": 57,
     "metadata": {},
     "output_type": "execute_result"
    }
   ],
   "source": [
    "#Specificity\n",
    "100*(TN/float(TN+FP))"
   ]
  },
  {
   "cell_type": "code",
   "execution_count": 58,
   "metadata": {},
   "outputs": [
    {
     "data": {
      "text/plain": [
       "0.11515151515151512"
      ]
     },
     "execution_count": 58,
     "metadata": {},
     "output_type": "execute_result"
    }
   ],
   "source": [
    "#False positive rate\n",
    "1-(TN/float(TN+FP))"
   ]
  },
  {
   "cell_type": "code",
   "execution_count": 59,
   "metadata": {},
   "outputs": [
    {
     "name": "stdout",
     "output_type": "stream",
     "text": [
      "0.7956989247311828\n"
     ]
    }
   ],
   "source": [
    "# Positive predicted value\n",
    "print (TP / float(TP+FP))"
   ]
  },
  {
   "cell_type": "code",
   "execution_count": 60,
   "metadata": {},
   "outputs": [
    {
     "name": "stdout",
     "output_type": "stream",
     "text": [
      "0.8289311281165145\n"
     ]
    }
   ],
   "source": [
    "# Negative predictive value\n",
    "print (TN / float(TN+ FN))"
   ]
  },
  {
   "cell_type": "markdown",
   "metadata": {},
   "source": [
    "#### Lets plot the ROC Curve"
   ]
  },
  {
   "cell_type": "code",
   "execution_count": 61,
   "metadata": {},
   "outputs": [],
   "source": [
    "def draw_roc(actual,prob):\n",
    "    fpr,tpr,thresholds = roc_curve(actual,prob,drop_intermediate=False)\n",
    "    acc_score = roc_auc_score(actual,prob)\n",
    "    plt.figure(figsize=(6,6))\n",
    "    plt.plot(fpr,tpr,label='ROC curve (area = %0.2f)' % acc_score)\n",
    "    plt.plot([0,1],[0,1],'k--')\n",
    "    plt.xlim([0.0, 1.0])\n",
    "    plt.ylim([0.0, 1.05])\n",
    "    plt.xlabel('False Positive Rate')\n",
    "    plt.ylabel('True Positive Rate')\n",
    "    plt.legend(loc=\"lower right\")\n",
    "    plt.title('Receiver Operating Charecterstic')"
   ]
  },
  {
   "cell_type": "code",
   "execution_count": 62,
   "metadata": {},
   "outputs": [
    {
     "data": {
      "image/png": "[encoded data removed]",
      "text/plain": [
       "<Figure size 432x432 with 1 Axes>"
      ]
     },
     "metadata": {},
     "output_type": "display_data"
    }
   ],
   "source": [
    "draw_roc(train_y_pred_final.Converted,train_y_pred_final.Predicted)"
   ]
  },
  {
   "cell_type": "markdown",
   "metadata": {},
   "source": [
    "#### Lets find the optimal cutoff point"
   ]
  },
  {
   "cell_type": "code",
   "execution_count": 63,
   "metadata": {},
   "outputs": [
    {
     "data": {
      "text/html": [
       "<div>\n",
       "<style scoped>\n",
       "    .dataframe tbody tr th:only-of-type {\n",
       "        vertical-align: middle;\n",
       "    }\n",
       "\n",
       "    .dataframe tbody tr th {\n",
       "        vertical-align: top;\n",
       "    }\n",
       "\n",
       "    .dataframe thead th {\n",
       "        text-align: right;\n",
       "    }\n",
       "</style>\n",
       "<table border=\"1\" class=\"dataframe\">\n",
       "  <thead>\n",
       "    <tr style=\"text-align: right;\">\n",
       "      <th></th>\n",
       "      <th>Converted</th>\n",
       "      <th>Converted_Prob</th>\n",
       "      <th>Cust_ID</th>\n",
       "      <th>Predicted</th>\n",
       "      <th>0.0</th>\n",
       "      <th>0.1</th>\n",
       "      <th>0.2</th>\n",
       "      <th>0.3</th>\n",
       "      <th>0.4</th>\n",
       "      <th>0.5</th>\n",
       "      <th>0.6</th>\n",
       "      <th>0.7</th>\n",
       "      <th>0.8</th>\n",
       "      <th>0.9</th>\n",
       "    </tr>\n",
       "  </thead>\n",
       "  <tbody>\n",
       "    <tr>\n",
       "      <th>0</th>\n",
       "      <td>0</td>\n",
       "      <td>0.852533</td>\n",
       "      <td>8105</td>\n",
       "      <td>1</td>\n",
       "      <td>1</td>\n",
       "      <td>1</td>\n",
       "      <td>1</td>\n",
       "      <td>1</td>\n",
       "      <td>1</td>\n",
       "      <td>1</td>\n",
       "      <td>1</td>\n",
       "      <td>1</td>\n",
       "      <td>1</td>\n",
       "      <td>0</td>\n",
       "    </tr>\n",
       "    <tr>\n",
       "      <th>1</th>\n",
       "      <td>0</td>\n",
       "      <td>0.611647</td>\n",
       "      <td>6856</td>\n",
       "      <td>1</td>\n",
       "      <td>1</td>\n",
       "      <td>1</td>\n",
       "      <td>1</td>\n",
       "      <td>1</td>\n",
       "      <td>1</td>\n",
       "      <td>1</td>\n",
       "      <td>1</td>\n",
       "      <td>0</td>\n",
       "      <td>0</td>\n",
       "      <td>0</td>\n",
       "    </tr>\n",
       "    <tr>\n",
       "      <th>2</th>\n",
       "      <td>0</td>\n",
       "      <td>0.102399</td>\n",
       "      <td>8272</td>\n",
       "      <td>0</td>\n",
       "      <td>1</td>\n",
       "      <td>1</td>\n",
       "      <td>0</td>\n",
       "      <td>0</td>\n",
       "      <td>0</td>\n",
       "      <td>0</td>\n",
       "      <td>0</td>\n",
       "      <td>0</td>\n",
       "      <td>0</td>\n",
       "      <td>0</td>\n",
       "    </tr>\n",
       "    <tr>\n",
       "      <th>3</th>\n",
       "      <td>1</td>\n",
       "      <td>0.590738</td>\n",
       "      <td>1615</td>\n",
       "      <td>1</td>\n",
       "      <td>1</td>\n",
       "      <td>1</td>\n",
       "      <td>1</td>\n",
       "      <td>1</td>\n",
       "      <td>1</td>\n",
       "      <td>1</td>\n",
       "      <td>0</td>\n",
       "      <td>0</td>\n",
       "      <td>0</td>\n",
       "      <td>0</td>\n",
       "    </tr>\n",
       "    <tr>\n",
       "      <th>4</th>\n",
       "      <td>1</td>\n",
       "      <td>0.229925</td>\n",
       "      <td>7263</td>\n",
       "      <td>0</td>\n",
       "      <td>1</td>\n",
       "      <td>1</td>\n",
       "      <td>1</td>\n",
       "      <td>0</td>\n",
       "      <td>0</td>\n",
       "      <td>0</td>\n",
       "      <td>0</td>\n",
       "      <td>0</td>\n",
       "      <td>0</td>\n",
       "      <td>0</td>\n",
       "    </tr>\n",
       "  </tbody>\n",
       "</table>\n",
       "</div>"
      ],
      "text/plain": [
       "   Converted  Converted_Prob  Cust_ID  Predicted  0.0  0.1  0.2  0.3  0.4  \\\n",
       "0          0        0.852533     8105          1    1    1    1    1    1   \n",
       "1          0        0.611647     6856          1    1    1    1    1    1   \n",
       "2          0        0.102399     8272          0    1    1    0    0    0   \n",
       "3          1        0.590738     1615          1    1    1    1    1    1   \n",
       "4          1        0.229925     7263          0    1    1    1    0    0   \n",
       "\n",
       "   0.5  0.6  0.7  0.8  0.9  \n",
       "0    1    1    1    1    0  \n",
       "1    1    1    0    0    0  \n",
       "2    0    0    0    0    0  \n",
       "3    1    0    0    0    0  \n",
       "4    0    0    0    0    0  "
      ]
     },
     "execution_count": 63,
     "metadata": {},
     "output_type": "execute_result"
    }
   ],
   "source": [
    "# Columns with different probability cutoff\n",
    "numbers = [float(x/10) for x in range(10)]\n",
    "for i in numbers:\n",
    "    train_y_pred_final[i] = train_y_pred_final.Converted_Prob.map(lambda x : 1 if x>i else 0 )\n",
    "train_y_pred_final.head()"
   ]
  },
  {
   "cell_type": "markdown",
   "metadata": {},
   "source": [
    "#### Lets check the sensitivity and specificty tradeoff"
   ]
  },
  {
   "cell_type": "code",
   "execution_count": 64,
   "metadata": {},
   "outputs": [
    {
     "name": "stdout",
     "output_type": "stream",
     "text": [
      "     prob  accuracy     sensi     speci\n",
      "0.0   0.0  0.386914  1.000000  0.000000\n",
      "0.1   0.1  0.596931  0.968267  0.362582\n",
      "0.2   0.2  0.745234  0.918163  0.636100\n",
      "0.3   0.3  0.801939  0.841336  0.777075\n",
      "0.4   0.4  0.814863  0.781628  0.835837\n",
      "0.5   0.5  0.817447  0.710647  0.884848\n",
      "0.6   0.6  0.800323  0.596242  0.929117\n",
      "0.7   0.7  0.785622  0.524008  0.950725\n",
      "0.8   0.8  0.769628  0.451357  0.970487\n",
      "0.9   0.9  0.717609  0.288935  0.988142\n"
     ]
    }
   ],
   "source": [
    "cutoff_df = pd.DataFrame( columns = ['prob','accuracy','sensi','speci'])\n",
    "num = [0.0,0.1,0.2,0.3,0.4,0.5,0.6,0.7,0.8,0.9]\n",
    "for i in num:\n",
    "    cm1  = confusion_matrix(train_y_pred_final.Converted,train_y_pred_final[i])\n",
    "    total1 = sum(sum(cm1))\n",
    "    accuracy = (cm1[0,0]+cm1[1,1])/total1\n",
    "    speci = cm1[0,0]/(cm1[0,0]+cm1[0,1])\n",
    "    sensi = cm1[1,1]/(cm1[1,0]+cm1[1,1])\n",
    "    cutoff_df.loc[i] =[i,accuracy,sensi,speci]\n",
    "print(cutoff_df)"
   ]
  },
  {
   "cell_type": "code",
   "execution_count": 65,
   "metadata": {},
   "outputs": [
    {
     "data": {
      "text/plain": [
       "<matplotlib.axes._subplots.AxesSubplot at 0x187dd40b390>"
      ]
     },
     "execution_count": 65,
     "metadata": {},
     "output_type": "execute_result"
    },
    {
     "data": {
      "text/plain": [
       "<Figure size 720x432 with 0 Axes>"
      ]
     },
     "metadata": {},
     "output_type": "display_data"
    },
    {
     "data": {
      "image/png": "[encoded data removed]",
      "text/plain": [
       "<Figure size 432x288 with 1 Axes>"
      ]
     },
     "metadata": {},
     "output_type": "display_data"
    }
   ],
   "source": [
    "plt.figure(figsize=(10,6))\n",
    "cutoff_df.plot.line(x = 'prob',y= ['accuracy','sensi','speci'])"
   ]
  },
  {
   "cell_type": "markdown",
   "metadata": {},
   "source": [
    "#### From the curve we are taking 0.3 as our cutoff probability"
   ]
  },
  {
   "cell_type": "code",
   "execution_count": 66,
   "metadata": {},
   "outputs": [],
   "source": [
    "train_y_pred_final['Final_Prediction'] = train_y_pred_final.Converted_Prob.map(lambda x:1 if x>0.3 else 0)"
   ]
  },
  {
   "cell_type": "code",
   "execution_count": 67,
   "metadata": {},
   "outputs": [
    {
     "data": {
      "text/html": [
       "<div>\n",
       "<style scoped>\n",
       "    .dataframe tbody tr th:only-of-type {\n",
       "        vertical-align: middle;\n",
       "    }\n",
       "\n",
       "    .dataframe tbody tr th {\n",
       "        vertical-align: top;\n",
       "    }\n",
       "\n",
       "    .dataframe thead th {\n",
       "        text-align: right;\n",
       "    }\n",
       "</style>\n",
       "<table border=\"1\" class=\"dataframe\">\n",
       "  <thead>\n",
       "    <tr style=\"text-align: right;\">\n",
       "      <th></th>\n",
       "      <th>Converted</th>\n",
       "      <th>Converted_Prob</th>\n",
       "      <th>Cust_ID</th>\n",
       "      <th>Predicted</th>\n",
       "      <th>0.0</th>\n",
       "      <th>0.1</th>\n",
       "      <th>0.2</th>\n",
       "      <th>0.3</th>\n",
       "      <th>0.4</th>\n",
       "      <th>0.5</th>\n",
       "      <th>0.6</th>\n",
       "      <th>0.7</th>\n",
       "      <th>0.8</th>\n",
       "      <th>0.9</th>\n",
       "      <th>Final_Prediction</th>\n",
       "    </tr>\n",
       "  </thead>\n",
       "  <tbody>\n",
       "    <tr>\n",
       "      <th>0</th>\n",
       "      <td>0</td>\n",
       "      <td>0.852533</td>\n",
       "      <td>8105</td>\n",
       "      <td>1</td>\n",
       "      <td>1</td>\n",
       "      <td>1</td>\n",
       "      <td>1</td>\n",
       "      <td>1</td>\n",
       "      <td>1</td>\n",
       "      <td>1</td>\n",
       "      <td>1</td>\n",
       "      <td>1</td>\n",
       "      <td>1</td>\n",
       "      <td>0</td>\n",
       "      <td>1</td>\n",
       "    </tr>\n",
       "    <tr>\n",
       "      <th>1</th>\n",
       "      <td>0</td>\n",
       "      <td>0.611647</td>\n",
       "      <td>6856</td>\n",
       "      <td>1</td>\n",
       "      <td>1</td>\n",
       "      <td>1</td>\n",
       "      <td>1</td>\n",
       "      <td>1</td>\n",
       "      <td>1</td>\n",
       "      <td>1</td>\n",
       "      <td>1</td>\n",
       "      <td>0</td>\n",
       "      <td>0</td>\n",
       "      <td>0</td>\n",
       "      <td>1</td>\n",
       "    </tr>\n",
       "    <tr>\n",
       "      <th>2</th>\n",
       "      <td>0</td>\n",
       "      <td>0.102399</td>\n",
       "      <td>8272</td>\n",
       "      <td>0</td>\n",
       "      <td>1</td>\n",
       "      <td>1</td>\n",
       "      <td>0</td>\n",
       "      <td>0</td>\n",
       "      <td>0</td>\n",
       "      <td>0</td>\n",
       "      <td>0</td>\n",
       "      <td>0</td>\n",
       "      <td>0</td>\n",
       "      <td>0</td>\n",
       "      <td>0</td>\n",
       "    </tr>\n",
       "    <tr>\n",
       "      <th>3</th>\n",
       "      <td>1</td>\n",
       "      <td>0.590738</td>\n",
       "      <td>1615</td>\n",
       "      <td>1</td>\n",
       "      <td>1</td>\n",
       "      <td>1</td>\n",
       "      <td>1</td>\n",
       "      <td>1</td>\n",
       "      <td>1</td>\n",
       "      <td>1</td>\n",
       "      <td>0</td>\n",
       "      <td>0</td>\n",
       "      <td>0</td>\n",
       "      <td>0</td>\n",
       "      <td>1</td>\n",
       "    </tr>\n",
       "    <tr>\n",
       "      <th>4</th>\n",
       "      <td>1</td>\n",
       "      <td>0.229925</td>\n",
       "      <td>7263</td>\n",
       "      <td>0</td>\n",
       "      <td>1</td>\n",
       "      <td>1</td>\n",
       "      <td>1</td>\n",
       "      <td>0</td>\n",
       "      <td>0</td>\n",
       "      <td>0</td>\n",
       "      <td>0</td>\n",
       "      <td>0</td>\n",
       "      <td>0</td>\n",
       "      <td>0</td>\n",
       "      <td>0</td>\n",
       "    </tr>\n",
       "  </tbody>\n",
       "</table>\n",
       "</div>"
      ],
      "text/plain": [
       "   Converted  Converted_Prob  Cust_ID  Predicted  0.0  0.1  0.2  0.3  0.4  \\\n",
       "0          0        0.852533     8105          1    1    1    1    1    1   \n",
       "1          0        0.611647     6856          1    1    1    1    1    1   \n",
       "2          0        0.102399     8272          0    1    1    0    0    0   \n",
       "3          1        0.590738     1615          1    1    1    1    1    1   \n",
       "4          1        0.229925     7263          0    1    1    1    0    0   \n",
       "\n",
       "   0.5  0.6  0.7  0.8  0.9  Final_Prediction  \n",
       "0    1    1    1    1    0                 1  \n",
       "1    1    1    0    0    0                 1  \n",
       "2    0    0    0    0    0                 0  \n",
       "3    1    0    0    0    0                 1  \n",
       "4    0    0    0    0    0                 0  "
      ]
     },
     "execution_count": 67,
     "metadata": {},
     "output_type": "execute_result"
    }
   ],
   "source": [
    "train_y_pred_final.head()"
   ]
  },
  {
   "cell_type": "markdown",
   "metadata": {},
   "source": [
    "#### Lets check the accuracy score of the model again"
   ]
  },
  {
   "cell_type": "code",
   "execution_count": 68,
   "metadata": {},
   "outputs": [
    {
     "data": {
      "text/plain": [
       "0.8019386106623586"
      ]
     },
     "execution_count": 68,
     "metadata": {},
     "output_type": "execute_result"
    }
   ],
   "source": [
    "accuracy_score(train_y_pred_final.Converted,train_y_pred_final.Final_Prediction)"
   ]
  },
  {
   "cell_type": "markdown",
   "metadata": {},
   "source": [
    "#### Lets check the Confusion metrix"
   ]
  },
  {
   "cell_type": "code",
   "execution_count": 69,
   "metadata": {},
   "outputs": [
    {
     "data": {
      "text/plain": [
       "array([[2949,  846],\n",
       "       [ 380, 2015]], dtype=int64)"
      ]
     },
     "execution_count": 69,
     "metadata": {},
     "output_type": "execute_result"
    }
   ],
   "source": [
    "confusion = confusion_matrix(train_y_pred_final.Converted,train_y_pred_final.Final_Prediction)\n",
    "confusion"
   ]
  },
  {
   "cell_type": "markdown",
   "metadata": {},
   "source": [
    "#### Now lets calculate all the measures for this model and understand how our model is performing"
   ]
  },
  {
   "cell_type": "code",
   "execution_count": 70,
   "metadata": {},
   "outputs": [],
   "source": [
    "TP = confusion[1,1]\n",
    "TN = confusion[0,0]\n",
    "FP = confusion[0,1]\n",
    "FN = confusion[1,0]"
   ]
  },
  {
   "cell_type": "code",
   "execution_count": 71,
   "metadata": {},
   "outputs": [
    {
     "data": {
      "text/plain": [
       "0.8413361169102297"
      ]
     },
     "execution_count": 71,
     "metadata": {},
     "output_type": "execute_result"
    }
   ],
   "source": [
    "# Sensitivity\n",
    "TP/float(TP+FN)"
   ]
  },
  {
   "cell_type": "code",
   "execution_count": 72,
   "metadata": {},
   "outputs": [
    {
     "data": {
      "text/plain": [
       "0.7770750988142292"
      ]
     },
     "execution_count": 72,
     "metadata": {},
     "output_type": "execute_result"
    }
   ],
   "source": [
    "# Specificity\n",
    "TN/float(TN+FP)"
   ]
  },
  {
   "cell_type": "code",
   "execution_count": 73,
   "metadata": {},
   "outputs": [
    {
     "data": {
      "text/plain": [
       "0.8413361169102297"
      ]
     },
     "execution_count": 73,
     "metadata": {},
     "output_type": "execute_result"
    }
   ],
   "source": [
    "# True positive rate\n",
    "TP/float(TP+FN)"
   ]
  },
  {
   "cell_type": "code",
   "execution_count": 74,
   "metadata": {},
   "outputs": [
    {
     "data": {
      "text/plain": [
       "0.2229249011857708"
      ]
     },
     "execution_count": 74,
     "metadata": {},
     "output_type": "execute_result"
    }
   ],
   "source": [
    "# False positive rate\n",
    "1-(TN/float(TN+FP))"
   ]
  },
  {
   "cell_type": "code",
   "execution_count": 75,
   "metadata": {},
   "outputs": [
    {
     "data": {
      "text/plain": [
       "0.7042991960852849"
      ]
     },
     "execution_count": 75,
     "metadata": {},
     "output_type": "execute_result"
    }
   ],
   "source": [
    "# Positive predicted value\n",
    "TP/float(TP+FP)"
   ]
  },
  {
   "cell_type": "code",
   "execution_count": 76,
   "metadata": {},
   "outputs": [
    {
     "data": {
      "text/plain": [
       "0.885851607089216"
      ]
     },
     "execution_count": 76,
     "metadata": {},
     "output_type": "execute_result"
    }
   ],
   "source": [
    "# Negative predicted value\n",
    "TN/float(TN+FN)"
   ]
  },
  {
   "cell_type": "code",
   "execution_count": null,
   "metadata": {},
   "outputs": [],
   "source": []
  },
  {
   "cell_type": "markdown",
   "metadata": {},
   "source": [
    "#### Now lets calculate precision(Amount of 1 predicted are actually correct) and recall(Same as sensitivity)"
   ]
  },
  {
   "cell_type": "code",
   "execution_count": 77,
   "metadata": {},
   "outputs": [
    {
     "data": {
      "text/plain": [
       "0.7042991960852849"
      ]
     },
     "execution_count": 77,
     "metadata": {},
     "output_type": "execute_result"
    }
   ],
   "source": [
    "# Precision\n",
    "#TP/float(TP+FP)\n",
    "precision_score(train_y_pred_final.Converted,train_y_pred_final.Final_Prediction)"
   ]
  },
  {
   "cell_type": "code",
   "execution_count": 78,
   "metadata": {},
   "outputs": [
    {
     "data": {
      "text/plain": [
       "0.8413361169102297"
      ]
     },
     "execution_count": 78,
     "metadata": {},
     "output_type": "execute_result"
    }
   ],
   "source": [
    "# Recall\n",
    "#TP/float(TP+FN)\n",
    "recall_score(train_y_pred_final.Converted,train_y_pred_final.Final_Prediction)"
   ]
  },
  {
   "cell_type": "markdown",
   "metadata": {},
   "source": [
    "#### Lets see the precision recall tradeoff curve"
   ]
  },
  {
   "cell_type": "code",
   "execution_count": 79,
   "metadata": {},
   "outputs": [],
   "source": [
    "from sklearn.metrics import precision_recall_curve\n",
    "pre,rec,thr = precision_recall_curve(train_y_pred_final.Converted,train_y_pred_final.Converted_Prob)"
   ]
  },
  {
   "cell_type": "code",
   "execution_count": 80,
   "metadata": {},
   "outputs": [
    {
     "data": {
      "image/png": "[encoded data removed]",
      "text/plain": [
       "<Figure size 720x432 with 1 Axes>"
      ]
     },
     "metadata": {},
     "output_type": "display_data"
    }
   ],
   "source": [
    "plt.figure(figsize=(10,6))\n",
    "plt.plot(thr,pre[:-1],'r--')\n",
    "plt.plot(thr,rec[:-1],'g--')\n",
    "plt.show()"
   ]
  },
  {
   "cell_type": "markdown",
   "metadata": {},
   "source": [
    "### Now lets make prediction on the test dataset"
   ]
  },
  {
   "cell_type": "markdown",
   "metadata": {},
   "source": [
    "#### Lets first scale the data depend on our learning from the train set"
   ]
  },
  {
   "cell_type": "code",
   "execution_count": 81,
   "metadata": {},
   "outputs": [],
   "source": [
    "test_X[['TotalVisits','Total Time Spent on Website','Page Views Per Visit']] = scaler.transform(test_X[['TotalVisits','Total Time Spent on Website','Page Views Per Visit']])"
   ]
  },
  {
   "cell_type": "markdown",
   "metadata": {},
   "source": [
    "#### Selecting the columns from the final model"
   ]
  },
  {
   "cell_type": "code",
   "execution_count": 82,
   "metadata": {},
   "outputs": [],
   "source": [
    "sel_col = list(X_train_m7.drop('const',axis=1).columns)\n",
    "test_X = test_X[sel_col]"
   ]
  },
  {
   "cell_type": "code",
   "execution_count": 83,
   "metadata": {},
   "outputs": [],
   "source": [
    "X_test_sm = sm.add_constant(test_X)"
   ]
  },
  {
   "cell_type": "markdown",
   "metadata": {},
   "source": [
    "#### Making predictions"
   ]
  },
  {
   "cell_type": "code",
   "execution_count": 84,
   "metadata": {},
   "outputs": [],
   "source": [
    "test_y_prob = logm7.predict(X_test_sm)"
   ]
  },
  {
   "cell_type": "code",
   "execution_count": 85,
   "metadata": {},
   "outputs": [],
   "source": [
    "y_test_1 = pd.DataFrame(test_y_prob)"
   ]
  },
  {
   "cell_type": "code",
   "execution_count": 86,
   "metadata": {},
   "outputs": [
    {
     "data": {
      "text/html": [
       "<div>\n",
       "<style scoped>\n",
       "    .dataframe tbody tr th:only-of-type {\n",
       "        vertical-align: middle;\n",
       "    }\n",
       "\n",
       "    .dataframe tbody tr th {\n",
       "        vertical-align: top;\n",
       "    }\n",
       "\n",
       "    .dataframe thead th {\n",
       "        text-align: right;\n",
       "    }\n",
       "</style>\n",
       "<table border=\"1\" class=\"dataframe\">\n",
       "  <thead>\n",
       "    <tr style=\"text-align: right;\">\n",
       "      <th></th>\n",
       "      <th>0</th>\n",
       "    </tr>\n",
       "  </thead>\n",
       "  <tbody>\n",
       "    <tr>\n",
       "      <th>7430</th>\n",
       "      <td>0.028846</td>\n",
       "    </tr>\n",
       "    <tr>\n",
       "      <th>7035</th>\n",
       "      <td>0.131266</td>\n",
       "    </tr>\n",
       "    <tr>\n",
       "      <th>5602</th>\n",
       "      <td>0.669525</td>\n",
       "    </tr>\n",
       "  </tbody>\n",
       "</table>\n",
       "</div>"
      ],
      "text/plain": [
       "             0\n",
       "7430  0.028846\n",
       "7035  0.131266\n",
       "5602  0.669525"
      ]
     },
     "execution_count": 86,
     "metadata": {},
     "output_type": "execute_result"
    }
   ],
   "source": [
    "y_test_1.sample(3)"
   ]
  },
  {
   "cell_type": "code",
   "execution_count": 87,
   "metadata": {},
   "outputs": [],
   "source": [
    "test_y_df = pd.DataFrame(test_y)"
   ]
  },
  {
   "cell_type": "code",
   "execution_count": 88,
   "metadata": {},
   "outputs": [],
   "source": [
    "test_y_df['ID'] = test_y_df.index"
   ]
  },
  {
   "cell_type": "markdown",
   "metadata": {},
   "source": [
    "#### Dropping the index for merging"
   ]
  },
  {
   "cell_type": "code",
   "execution_count": 89,
   "metadata": {},
   "outputs": [],
   "source": [
    "y_test_1.reset_index(drop=True,inplace=True)\n",
    "test_y_df.reset_index(drop=True,inplace=True)"
   ]
  },
  {
   "cell_type": "code",
   "execution_count": 90,
   "metadata": {},
   "outputs": [],
   "source": [
    "test_y_final = pd.concat([test_y_df,y_test_1],axis='columns')\n",
    "test_y_final= test_y_final.rename(columns={ 0 : 'Convert_Prob'})\n",
    "test_y_final = test_y_final.reindex_axis(['ID','Converted','Convert_Prob'], axis=1)"
   ]
  },
  {
   "cell_type": "code",
   "execution_count": 91,
   "metadata": {},
   "outputs": [],
   "source": [
    "test_y_final['Final_Prediction'] = test_y_final.Convert_Prob.map(lambda x:1 if x>0.3 else 0)"
   ]
  },
  {
   "cell_type": "code",
   "execution_count": 92,
   "metadata": {},
   "outputs": [
    {
     "data": {
      "text/html": [
       "<div>\n",
       "<style scoped>\n",
       "    .dataframe tbody tr th:only-of-type {\n",
       "        vertical-align: middle;\n",
       "    }\n",
       "\n",
       "    .dataframe tbody tr th {\n",
       "        vertical-align: top;\n",
       "    }\n",
       "\n",
       "    .dataframe thead th {\n",
       "        text-align: right;\n",
       "    }\n",
       "</style>\n",
       "<table border=\"1\" class=\"dataframe\">\n",
       "  <thead>\n",
       "    <tr style=\"text-align: right;\">\n",
       "      <th></th>\n",
       "      <th>ID</th>\n",
       "      <th>Converted</th>\n",
       "      <th>Convert_Prob</th>\n",
       "      <th>Final_Prediction</th>\n",
       "    </tr>\n",
       "  </thead>\n",
       "  <tbody>\n",
       "    <tr>\n",
       "      <th>0</th>\n",
       "      <td>2271</td>\n",
       "      <td>1</td>\n",
       "      <td>0.901963</td>\n",
       "      <td>1</td>\n",
       "    </tr>\n",
       "    <tr>\n",
       "      <th>1</th>\n",
       "      <td>2707</td>\n",
       "      <td>0</td>\n",
       "      <td>0.035429</td>\n",
       "      <td>0</td>\n",
       "    </tr>\n",
       "    <tr>\n",
       "      <th>2</th>\n",
       "      <td>2061</td>\n",
       "      <td>1</td>\n",
       "      <td>0.757377</td>\n",
       "      <td>1</td>\n",
       "    </tr>\n",
       "    <tr>\n",
       "      <th>3</th>\n",
       "      <td>8216</td>\n",
       "      <td>0</td>\n",
       "      <td>0.111752</td>\n",
       "      <td>0</td>\n",
       "    </tr>\n",
       "    <tr>\n",
       "      <th>4</th>\n",
       "      <td>570</td>\n",
       "      <td>0</td>\n",
       "      <td>0.187805</td>\n",
       "      <td>0</td>\n",
       "    </tr>\n",
       "  </tbody>\n",
       "</table>\n",
       "</div>"
      ],
      "text/plain": [
       "     ID  Converted  Convert_Prob  Final_Prediction\n",
       "0  2271          1      0.901963                 1\n",
       "1  2707          0      0.035429                 0\n",
       "2  2061          1      0.757377                 1\n",
       "3  8216          0      0.111752                 0\n",
       "4   570          0      0.187805                 0"
      ]
     },
     "execution_count": 92,
     "metadata": {},
     "output_type": "execute_result"
    }
   ],
   "source": [
    "test_y_final.head()"
   ]
  },
  {
   "cell_type": "markdown",
   "metadata": {},
   "source": [
    "### Lets calculate all the metrics for the test model"
   ]
  },
  {
   "cell_type": "code",
   "execution_count": 93,
   "metadata": {},
   "outputs": [
    {
     "data": {
      "text/plain": [
       "0.7901281085154483"
      ]
     },
     "execution_count": 93,
     "metadata": {},
     "output_type": "execute_result"
    }
   ],
   "source": [
    "# Accuracy Score\n",
    "accuracy_score(test_y_final.Converted,test_y_final.Final_Prediction)"
   ]
  },
  {
   "cell_type": "code",
   "execution_count": 94,
   "metadata": {},
   "outputs": [
    {
     "data": {
      "text/plain": [
       "array([[1271,  385],\n",
       "       [ 172,  826]], dtype=int64)"
      ]
     },
     "execution_count": 94,
     "metadata": {},
     "output_type": "execute_result"
    }
   ],
   "source": [
    "# Confusion metrix\n",
    "conf_test = confusion_matrix(test_y_final.Converted,test_y_final.Final_Prediction)\n",
    "conf_test"
   ]
  },
  {
   "cell_type": "code",
   "execution_count": 95,
   "metadata": {},
   "outputs": [],
   "source": [
    "TP = conf_test[1,1]\n",
    "TN = conf_test[0,0]\n",
    "FP = conf_test[1,1]\n",
    "FN = conf_test[1,0]"
   ]
  },
  {
   "cell_type": "code",
   "execution_count": 96,
   "metadata": {},
   "outputs": [
    {
     "data": {
      "text/plain": [
       "0.8276553106212425"
      ]
     },
     "execution_count": 96,
     "metadata": {},
     "output_type": "execute_result"
    }
   ],
   "source": [
    "# Sensitivity \n",
    "TP/float(TP+FN)"
   ]
  },
  {
   "cell_type": "code",
   "execution_count": 97,
   "metadata": {},
   "outputs": [
    {
     "data": {
      "text/plain": [
       "0.6061039580352885"
      ]
     },
     "execution_count": 97,
     "metadata": {},
     "output_type": "execute_result"
    }
   ],
   "source": [
    "# Specificity\n",
    "TN/float(TN+FP)"
   ]
  },
  {
   "cell_type": "code",
   "execution_count": 98,
   "metadata": {},
   "outputs": [
    {
     "data": {
      "text/plain": [
       "0.5"
      ]
     },
     "execution_count": 98,
     "metadata": {},
     "output_type": "execute_result"
    }
   ],
   "source": [
    "# Positives actually correct\n",
    "TP/float(TP+FP)"
   ]
  },
  {
   "cell_type": "code",
   "execution_count": 99,
   "metadata": {},
   "outputs": [
    {
     "data": {
      "text/plain": [
       "0.6820809248554913"
      ]
     },
     "execution_count": 99,
     "metadata": {},
     "output_type": "execute_result"
    }
   ],
   "source": [
    "# Precision \n",
    "precision_score(test_y_final.Converted,test_y_final.Final_Prediction)"
   ]
  },
  {
   "cell_type": "code",
   "execution_count": 100,
   "metadata": {},
   "outputs": [
    {
     "data": {
      "text/plain": [
       "0.8276553106212425"
      ]
     },
     "execution_count": 100,
     "metadata": {},
     "output_type": "execute_result"
    }
   ],
   "source": [
    "# Recall\n",
    "recall_score(test_y_final.Converted,test_y_final.Final_Prediction)"
   ]
  },
  {
   "cell_type": "markdown",
   "metadata": {},
   "source": [
    "#### Now lets assign a sore to all the leads"
   ]
  },
  {
   "cell_type": "code",
   "execution_count": 101,
   "metadata": {},
   "outputs": [],
   "source": [
    "test_y_final['Lead Score'] = round((test_y_final.Convert_Prob * 100),2)"
   ]
  },
  {
   "cell_type": "markdown",
   "metadata": {},
   "source": [
    "#### Top 5 Leads"
   ]
  },
  {
   "cell_type": "code",
   "execution_count": 102,
   "metadata": {},
   "outputs": [
    {
     "data": {
      "text/html": [
       "<div>\n",
       "<style scoped>\n",
       "    .dataframe tbody tr th:only-of-type {\n",
       "        vertical-align: middle;\n",
       "    }\n",
       "\n",
       "    .dataframe tbody tr th {\n",
       "        vertical-align: top;\n",
       "    }\n",
       "\n",
       "    .dataframe thead th {\n",
       "        text-align: right;\n",
       "    }\n",
       "</style>\n",
       "<table border=\"1\" class=\"dataframe\">\n",
       "  <thead>\n",
       "    <tr style=\"text-align: right;\">\n",
       "      <th></th>\n",
       "      <th>ID</th>\n",
       "      <th>Converted</th>\n",
       "      <th>Convert_Prob</th>\n",
       "      <th>Final_Prediction</th>\n",
       "      <th>Lead Score</th>\n",
       "    </tr>\n",
       "  </thead>\n",
       "  <tbody>\n",
       "    <tr>\n",
       "      <th>1767</th>\n",
       "      <td>7219</td>\n",
       "      <td>1</td>\n",
       "      <td>0.999719</td>\n",
       "      <td>1</td>\n",
       "      <td>99.97</td>\n",
       "    </tr>\n",
       "    <tr>\n",
       "      <th>761</th>\n",
       "      <td>3478</td>\n",
       "      <td>1</td>\n",
       "      <td>0.999493</td>\n",
       "      <td>1</td>\n",
       "      <td>99.95</td>\n",
       "    </tr>\n",
       "    <tr>\n",
       "      <th>414</th>\n",
       "      <td>8074</td>\n",
       "      <td>1</td>\n",
       "      <td>0.999454</td>\n",
       "      <td>1</td>\n",
       "      <td>99.95</td>\n",
       "    </tr>\n",
       "    <tr>\n",
       "      <th>232</th>\n",
       "      <td>6383</td>\n",
       "      <td>1</td>\n",
       "      <td>0.999465</td>\n",
       "      <td>1</td>\n",
       "      <td>99.95</td>\n",
       "    </tr>\n",
       "    <tr>\n",
       "      <th>2040</th>\n",
       "      <td>7579</td>\n",
       "      <td>1</td>\n",
       "      <td>0.999019</td>\n",
       "      <td>1</td>\n",
       "      <td>99.90</td>\n",
       "    </tr>\n",
       "  </tbody>\n",
       "</table>\n",
       "</div>"
      ],
      "text/plain": [
       "        ID  Converted  Convert_Prob  Final_Prediction  Lead Score\n",
       "1767  7219          1      0.999719                 1       99.97\n",
       "761   3478          1      0.999493                 1       99.95\n",
       "414   8074          1      0.999454                 1       99.95\n",
       "232   6383          1      0.999465                 1       99.95\n",
       "2040  7579          1      0.999019                 1       99.90"
      ]
     },
     "execution_count": 102,
     "metadata": {},
     "output_type": "execute_result"
    }
   ],
   "source": [
    "test_y_final.sort_values(by='Lead Score',ascending=False).head()"
   ]
  },
  {
   "cell_type": "code",
   "execution_count": null,
   "metadata": {},
   "outputs": [],
   "source": []
  }
 ],
 "metadata": {
  "kernelspec": {
   "display_name": "Python 3",
   "language": "python",
   "name": "python3"
  },
  "language_info": {
   "codemirror_mode": {
    "name": "ipython",
    "version": 3
   },
   "file_extension": ".py",
   "mimetype": "text/x-python",
   "name": "python",
   "nbconvert_exporter": "python",
   "pygments_lexer": "ipython3",
   "version": "3.6.5"
  }
 },
 "nbformat": 4,
 "nbformat_minor": 2
}
